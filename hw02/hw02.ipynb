{
 "cells": [
  {
   "cell_type": "code",
   "execution_count": null,
   "metadata": {
    "deletable": false,
    "editable": false
   },
   "outputs": [],
   "source": [
    "# Initialize OK\n",
    "from client.api.notebook import Notebook\n",
    "ok = Notebook('hw02.ok')"
   ]
  },
  {
   "cell_type": "markdown",
   "metadata": {},
   "source": [
    "# Homework 2"
   ]
  },
  {
   "cell_type": "code",
   "execution_count": 192,
   "metadata": {
    "deletable": false,
    "editable": false
   },
   "outputs": [],
   "source": [
    "# Run this cell, but please don't change it.\n",
    "\n",
    "import numpy as np\n",
    "import math\n",
    "from datascience import *\n",
    "\n",
    "# These lines set up the plotting functionality and formatting.\n",
    "import matplotlib\n",
    "matplotlib.use('Agg', warn=False)\n",
    "%matplotlib inline\n",
    "import matplotlib.pyplot as plots\n",
    "plots.style.use('fivethirtyeight')"
   ]
  },
  {
   "cell_type": "markdown",
   "metadata": {
    "deletable": false,
    "editable": false
   },
   "source": [
    "**Important**: The `ok` tests **don't always tell you that your answer is correct**. More often, they help catch careless mistakes. **It's up to you to ensure that your answer is correct.** If you're not sure, ask someone (not for the answer, but for some guidance about your approach). \n",
    "\n",
    "Helpful resource for the assignment: [datascience library](http://data8.org/datascience/tables.html).\n",
    "\n",
    "Run the `ok.submit()` cell at the bottom of the notebook to create regular backups of your work on [okpy.org](www.okpy.org)."
   ]
  },
  {
   "cell_type": "markdown",
   "metadata": {},
   "source": [
    "## 1. California Income"
   ]
  },
  {
   "cell_type": "markdown",
   "metadata": {},
   "source": [
    "We will be exploring possible connections between income and the presence of farmers throughout California.\n",
    "\n",
    "The dataset on income comes from the IRS [(documentation)](http://www.irs.gov/pub/irs-soi/13zpdoc.doc). We have identified some interesting columns in the dataset, but a full description of all the columns (and a definition of the population in the dataset and some interesting anonymization procedures they used) is available in this [description](irs_info.pdf).\n",
    "\n",
    "Let’s start by looking at the `income_raw` table."
   ]
  },
  {
   "cell_type": "code",
   "execution_count": 193,
   "metadata": {
    "deletable": false,
    "editable": false
   },
   "outputs": [],
   "source": [
    "income_raw = Table.read_table('ca_income_by_zip.csv', dtype={'ZIP': str}).drop(['STATEFIPS', 'STATE', 'agi_stub'])\n",
    "income_raw"
   ]
  },
  {
   "cell_type": "markdown",
   "metadata": {
    "deletable": false,
    "editable": false
   },
   "source": [
    "Some observations:\n",
    "\n",
    "1. The table contains several numerical columns and a column for the ZIP code.\n",
    "2. For each ZIP code, there are 6 rows.  Each row for a ZIP code has data from tax returns in one *income bracket* -- a group of people who make between some income $X1$ and some other income $X2$.  \n",
    "3. According to the IRS documentation, all the numerical columns are *totals* -- either total numbers of tax returns that fall into various categories, or total amounts of money (in thousands of dollars) from returns in those categories.  For example, the column `'N02650'` is the number of tax returns, and `'A02650'` is the total amount of total income (in thousands of dollars) from those returns."
   ]
  },
  {
   "cell_type": "markdown",
   "metadata": {
    "deletable": false,
    "editable": false
   },
   "source": [
    "**Question 1.1** Since we don't care about income brackets, but we do care about totals per ZIP code, let's group together our income data by ZIP code. Assign the name `income_by_zipcode` to a table with just **one row per ZIP code**. \n",
    "\n",
    "When you group according to ZIP code, the values in the remaining columns should be summed for each ZIP code. For example, consider the ZIP code 90210 and the column `'N02650'`. In the table `income_by_zipcode`, the value of `'N02650'` in the row corresponding to ZIP code 90210 should be the sum of the values of `'N02650'` in the 6 rows of `income_raw` corresponding to ZIP code 90210.\n",
    "\n",
    "*Hint:* Help for `group` can be found here in [textbook](https://www.inferentialthinking.com/chapters/08/2/Classifying_by_One_Variable).\n",
    "\n",
    "*Hint:* Notice that `group` can take a function name that can be applied to the columns.\n",
    "\n",
    "<!--\n",
    "BEGIN QUESTION\n",
    "name: q1_1\n",
    "manual: false\n",
    "points: 2\n",
    "-->"
   ]
  },
  {
   "cell_type": "code",
   "execution_count": 194,
   "metadata": {},
   "outputs": [],
   "source": [
    "income_by_zipcode = ...\n",
    "income_by_zipcode"
   ]
  },
  {
   "cell_type": "code",
   "execution_count": null,
   "metadata": {
    "deletable": false,
    "editable": false
   },
   "outputs": [],
   "source": [
    "ok.grade(\"q1_1\");"
   ]
  },
  {
   "cell_type": "markdown",
   "metadata": {
    "deletable": false,
    "editable": false
   },
   "source": [
    "**Question 1.2** Relabel the columns in `income_by_zipcode` to match the labels in `income_raw`; the names were probably modified slightly in the previous question. \n",
    "\n",
    "*Hint 1:* Inspect `income_raw.labels` and `income_by_zipcode.labels` to find the differences you need to change.\n",
    "\n",
    "*Hint 2:* Since there are many columns, it will be easier to relabel each of them by using a `for` statement. See [here](https://www.inferentialthinking.com/chapters/09/2/Iteration) in the textbook for details. Within the `for` loop, feel free to use the corresponding labels in `income_raw.labels` to relabel the columns in `income_by_zipcode`.\n",
    "\n",
    "*Hint 3:* To create a new table from an existing table with one label replaced, use `relabeled`. To **change** a label in an existing table permanently, use `relabel`. Both methods take two arguments: the old label and the new label. You can solve this problem with either one, but `relabel` is simpler.\n",
    "\n",
    "<!--\n",
    "BEGIN QUESTION\n",
    "name: q1_2\n",
    "manual: false\n",
    "points: 2\n",
    "-->"
   ]
  },
  {
   "cell_type": "code",
   "execution_count": 197,
   "metadata": {},
   "outputs": [],
   "source": [
    "income_row_labels = ...\n",
    "income_by_zipcode_labels = ...\n",
    "for i in np.arange(len(income_row_labels)):\n",
    "...\n",
    "income_by_zipcode"
   ]
  },
  {
   "cell_type": "code",
   "execution_count": null,
   "metadata": {
    "deletable": false,
    "editable": false
   },
   "outputs": [],
   "source": [
    "ok.grade(\"q1_2\");"
   ]
  },
  {
   "cell_type": "markdown",
   "metadata": {
    "deletable": false,
    "editable": false
   },
   "source": [
    "**Question 1.3** Create a table called `income` with  one row per ZIP code and the following columns:\n",
    "1. A `ZIP` column with the same contents as `'ZIP'` from `income_by_zipcode`.\n",
    "2. A `returns` column containing the total number of tax returns (column `'N02650'` from `income_by_zipcode`).\n",
    "3. A `total` column containing the total income in all tax returns in thousands of dollars (column `'A02650'` from `income_by_zipcode`).\n",
    "4. A `farmers` column containing the number of farmer returns (column `'SCHF'` from `income_by_zipcode`).\n",
    "\n",
    "<!--\n",
    "BEGIN QUESTION\n",
    "name: q1_3\n",
    "manual: false\n",
    "points: 2\n",
    "-->"
   ]
  },
  {
   "cell_type": "code",
   "execution_count": 199,
   "metadata": {},
   "outputs": [],
   "source": [
    "income = ...\n",
    "income"
   ]
  },
  {
   "cell_type": "code",
   "execution_count": null,
   "metadata": {
    "deletable": false,
    "editable": false
   },
   "outputs": [],
   "source": [
    "ok.grade(\"q1_3\");"
   ]
  },
  {
   "cell_type": "markdown",
   "metadata": {
    "deletable": false,
    "editable": false
   },
   "source": [
    "This table can be a little confusing so let’s break down what each column represents. \n",
    "* The first column, `ZIP`, is the zip code. Zip codes are important to us because they represent a geographic area. For example, the zip code '92122' represents an area of land in San Diego. \n",
    "* `returns` is the number of tax returns received by the IRS from that zip code. A tax return approximately represents one family’s income. Each tax return includes a reported income. \n",
    "* The `total` column is the sum of all the incomes reported for a given zip code (**measured in thousands of dollars**). \n",
    "* The `farmers` column represents the number of tax returns where the person filing the tax return reported that their primary occupation is farming."
   ]
  },
  {
   "cell_type": "markdown",
   "metadata": {
    "deletable": false,
    "editable": false
   },
   "source": [
    "**Question 1.4** What is the _**average** total income_ reported on all California tax returns (i.e., total income out of total returns)? Express the answer in **_dollars_** as an `integer` rounded to the nearest dollar. Round to the nearest integer using the `np.round()` function.\n",
    "\n",
    "*Hint*: The `total` column is measured in thousands of dollars.\n",
    "\n",
    "<!--\n",
    "BEGIN QUESTION\n",
    "name: q1_4\n",
    "manual: false\n",
    "points: 2\n",
    "-->"
   ]
  },
  {
   "cell_type": "code",
   "execution_count": 202,
   "metadata": {},
   "outputs": [],
   "source": [
    "avg_total_income = ...\n",
    "avg_total_income"
   ]
  },
  {
   "cell_type": "code",
   "execution_count": null,
   "metadata": {
    "deletable": false,
    "editable": false
   },
   "outputs": [],
   "source": [
    "ok.grade(\"q1_4\");"
   ]
  },
  {
   "cell_type": "markdown",
   "metadata": {
    "deletable": false,
    "editable": false
   },
   "source": [
    "**Question 1.5** All ZIP codes with less than 100 returns (or some other special conditions) are grouped together into one specific ZIP code. This ZIP code value has far more returns than any of the other ZIP codes. Find that ZIP code and assign it to `special_zip`. Then, remove the row with `special_zip` as ZIP code from the `income` table. \n",
    "\n",
    "*Hint 1:* This ZIP code has the maximum number of returns. Try using `max()` and the table method `where` to find out which row of the table has the maximum number of returns. Lastly, don't forget to extract the ZIP code out of the table and store it in the variable `special_zip`.\n",
    "\n",
    "*Hint 2:* To **remove** a row in the `income` table using `where` (that would exclude the row), use the following expression structure:\n",
    "\n",
    "    income = income.where(...)\n",
    "    \n",
    "*Hint 3:* Each ZIP code is represented as a `string`, not an `int`.\n",
    "\n",
    "<!--\n",
    "BEGIN QUESTION\n",
    "name: q1_5\n",
    "manual: false\n",
    "points: 2\n",
    "-->"
   ]
  },
  {
   "cell_type": "code",
   "execution_count": 205,
   "metadata": {},
   "outputs": [],
   "source": [
    "# Find the special zip code here\n",
    "special_zip = ...\n",
    "print(special_zip)\n",
    "# Remove the row with the special zip code here\n",
    "income = ...\n",
    "income"
   ]
  },
  {
   "cell_type": "code",
   "execution_count": null,
   "metadata": {
    "deletable": false,
    "editable": false
   },
   "outputs": [],
   "source": [
    "ok.grade(\"q1_5\");"
   ]
  },
  {
   "cell_type": "markdown",
   "metadata": {},
   "source": [
    "*Observation*: Among the tax returns in California for ZIP codes represented in the `income` table, is there an association between income and living in a ZIP code with a higher-than-average proportion of farmers? Let's explore this question by doing some calculations."
   ]
  },
  {
   "cell_type": "markdown",
   "metadata": {
    "deletable": false,
    "editable": false
   },
   "source": [
    "**Question 1.6** First, define a function called `proportion` that takes as inputs the total number of tax returns in a zip code and the total number of farmer returns in that zip code, and returns the proportion of tax returns filed by farmers in that zip code. The function should always output a number between 0 (no farmers) and 1 (entirely farmers)."
   ]
  },
  {
   "cell_type": "code",
   "execution_count": 210,
   "metadata": {},
   "outputs": [],
   "source": [
    "# Define your function proportion here\n",
    "def proportion(total_tax_returns, total_farmer_returns):\n",
    "    \"\"\"\n",
    "    The inputs are the total number of tax returns \n",
    "    in a zip code and the total number of farmer returns \n",
    "    in that zip code.\n",
    "    The function returns the **proportion** of tax returns \n",
    "    filed by farmers in that zip code.\n",
    "    \"\"\"\n",
    "    ..."
   ]
  },
  {
   "cell_type": "markdown",
   "metadata": {
    "deletable": false,
    "editable": false
   },
   "source": [
    "Then, use the `apply` method to add a column to the table `income` called `farm proportion` that contains the proportion of farmers in the area of each zip code. More about `apply` function can be found [here](https://www.inferentialthinking.com/chapters/08/1/Applying_a_Function_to_a_Column.html)."
   ]
  },
  {
   "cell_type": "code",
   "execution_count": 211,
   "metadata": {},
   "outputs": [],
   "source": [
    "income = ...\n",
    "income"
   ]
  },
  {
   "cell_type": "markdown",
   "metadata": {
    "deletable": false,
    "editable": false
   },
   "source": [
    "Lastly, calculate the average value of the column `farm proportion` among all zip codes, and call the result `avg_prop`.\n",
    "\n",
    "<!--\n",
    "BEGIN QUESTION\n",
    "name: q1_6\n",
    "manual: false\n",
    "points: 2\n",
    "-->"
   ]
  },
  {
   "cell_type": "code",
   "execution_count": 212,
   "metadata": {},
   "outputs": [],
   "source": [
    "avg_prop = ...\n",
    "avg_prop"
   ]
  },
  {
   "cell_type": "code",
   "execution_count": null,
   "metadata": {
    "deletable": false,
    "editable": false
   },
   "outputs": [],
   "source": [
    "ok.grade(\"q1_6\");"
   ]
  },
  {
   "cell_type": "markdown",
   "metadata": {
    "deletable": false,
    "editable": false
   },
   "source": [
    "**Question 1.7** Create a table called `high_farmers` with the same columns as `income` that only contains information for zip codes with an above-average proportion of farmers. Similarly, create a table called `low_farmers` with the same columns as `income` that only contains information for zip codes with a proportion of farmers that is at or below average.\n",
    "\n",
    "<!--\n",
    "BEGIN QUESTION\n",
    "name: q1_7\n",
    "manual: false\n",
    "points: 2\n",
    "-->"
   ]
  },
  {
   "cell_type": "code",
   "execution_count": 216,
   "metadata": {},
   "outputs": [],
   "source": [
    "high_farmers = ...\n",
    "high_farmers.show(3)\n",
    "low_farmers = ...\n",
    "low_farmers.show(3)"
   ]
  },
  {
   "cell_type": "code",
   "execution_count": null,
   "metadata": {
    "deletable": false,
    "editable": false
   },
   "outputs": [],
   "source": [
    "ok.grade(\"q1_7\");"
   ]
  },
  {
   "cell_type": "markdown",
   "metadata": {
    "deletable": false,
    "editable": false
   },
   "source": [
    "**Question 1.8** Calculate the average total income among all tax returns in zip codes with an above average proportion of farmers, and call the result `high_farmers_avg_income`. Similarly, calculate the average total income among all tax returns in zip codes with a proportion of farmers that is at or below average, and call the result `low_farmers_avg_income`. Give your answers in dollars, and **round to the nearest dollar** using the `np.round()` function. \n",
    "\n",
    "*Hint*: The “total” column is measured in *thousands of dollars*.\n",
    "\n",
    "<!--\n",
    "BEGIN QUESTION\n",
    "name: q1_8\n",
    "manual: false\n",
    "points: 2\n",
    "-->"
   ]
  },
  {
   "cell_type": "code",
   "execution_count": 221,
   "metadata": {},
   "outputs": [],
   "source": [
    "high_farmers_avg_income = ...\n",
    "print(high_farmers_avg_income)\n",
    "low_farmers_avg_income = ...\n",
    "print(low_farmers_avg_income)"
   ]
  },
  {
   "cell_type": "code",
   "execution_count": null,
   "metadata": {
    "deletable": false,
    "editable": false
   },
   "outputs": [],
   "source": [
    "ok.grade(\"q1_8\");"
   ]
  },
  {
   "cell_type": "markdown",
   "metadata": {
    "deletable": false,
    "editable": false
   },
   "source": [
    "**Question 1.9** Is the average of `high_farmers_avg_income` and `low_farmers_avg_income` the same as the average you calculated in question 1.3? Set the variable `same` to either True or False. Think about why this is the case.\n",
    "\n",
    "<!--\n",
    "BEGIN QUESTION\n",
    "name: q1_9\n",
    "manual: false\n",
    "points: 2\n",
    "-->"
   ]
  },
  {
   "cell_type": "code",
   "execution_count": 224,
   "metadata": {},
   "outputs": [],
   "source": [
    "same = ...\n",
    "same"
   ]
  },
  {
   "cell_type": "code",
   "execution_count": null,
   "metadata": {
    "deletable": false,
    "editable": false
   },
   "outputs": [],
   "source": [
    "ok.grade(\"q1_9\");"
   ]
  },
  {
   "cell_type": "markdown",
   "metadata": {
    "deletable": false,
    "editable": false
   },
   "source": [
    "**Question 1.10** Evaluate the following cell."
   ]
  },
  {
   "cell_type": "code",
   "execution_count": 227,
   "metadata": {},
   "outputs": [],
   "source": [
    "high_farmers_avg_income > low_farmers_avg_income"
   ]
  },
  {
   "cell_type": "markdown",
   "metadata": {
    "deletable": false,
    "editable": false
   },
   "source": [
    "You will get a boolean value as the result when you run the above cell.\n",
    "Which of the following is the most likely reason for this result? Set the variable `reason` to either 1, 2, 3, or 4.\n",
    "1. Zip codes with an above average proportion of farmers are more rural and therefore have fewer total residents making an income.\n",
    "2. Zip codes with an above average proportion of farmers have fewer cities, which is where most people who make a lot of money live.\n",
    "3. Zip codes with an above average proportion of farmers have more land and therefore more residents who live there, since each zip code covers a greater area.\n",
    "4. Zip codes with an above average proportion of farmers have fewer high-earning residents because richer people prefer to live in climates that are not suitable for farming.\n",
    "\n",
    "<!--\n",
    "BEGIN QUESTION\n",
    "name: q1_10\n",
    "manual: false\n",
    "points: 2\n",
    "-->"
   ]
  },
  {
   "cell_type": "code",
   "execution_count": 228,
   "metadata": {},
   "outputs": [],
   "source": [
    "reason = ..."
   ]
  },
  {
   "cell_type": "code",
   "execution_count": null,
   "metadata": {
    "deletable": false,
    "editable": false
   },
   "outputs": [],
   "source": [
    "ok.grade(\"q1_10\");"
   ]
  },
  {
   "cell_type": "markdown",
   "metadata": {},
   "source": [
    "## 2. Sampling Basketball Players"
   ]
  },
  {
   "cell_type": "markdown",
   "metadata": {
    "deletable": false,
    "editable": false
   },
   "source": [
    "This exercise uses salary data and game statistics for basketball players from the 2014-2015 NBA season. The data were collected from [basketball-reference](http://www.basketball-reference.com) and [spotrac](http://www.spotrac.com).\n",
    "\n",
    "Run the next cell to load the two datasets."
   ]
  },
  {
   "cell_type": "code",
   "execution_count": 231,
   "metadata": {},
   "outputs": [],
   "source": [
    "player_data = Table.read_table('player_data.csv')\n",
    "salary_data = Table.read_table('salary_data.csv')\n",
    "player_data.show(3)\n",
    "salary_data.show(3)"
   ]
  },
  {
   "cell_type": "markdown",
   "metadata": {
    "deletable": false,
    "editable": false
   },
   "source": [
    "**Question 2.1** We would like to relate players' game statistics to their salaries. Create a table called `full_data` that includes one row for each player who is listed in both `player_data` and `salary_data`.  It should include all the columns from `player_data` and `salary_data`, except the `\"PlayerName\"` column.\n",
    "\n",
    "*Hint:* Use the method `join`. Remember we would like to keep `\"Name\"` column in `player_data`, but not the `\"PlayerName\"` column in `salary_data`, which is controlled by the order of the tables in the `join` statement.\n",
    "\n",
    "<!--\n",
    "BEGIN QUESTION\n",
    "name: q2_1\n",
    "manual: false\n",
    "points: 2\n",
    "-->"
   ]
  },
  {
   "cell_type": "code",
   "execution_count": 232,
   "metadata": {},
   "outputs": [],
   "source": [
    "full_data = ...\n",
    "full_data "
   ]
  },
  {
   "cell_type": "code",
   "execution_count": null,
   "metadata": {
    "deletable": false,
    "editable": false
   },
   "outputs": [],
   "source": [
    "ok.grade(\"q2_1\");"
   ]
  },
  {
   "cell_type": "markdown",
   "metadata": {
    "deletable": false,
    "editable": false
   },
   "source": [
    "Basketball team managers would like to hire players who perform well but don't command high salaries.  From this perspective, a very crude measure of a player's *value* to their team is the number of points the player scored in a season for every *1000* dollars of salary. For example, Al Horford scored 1156 points and has a salary of 12,000,000 dollars, or 12,000 thousands of dollars, so his value is $\\frac{1156}{12000}$.\n",
    "\n",
    "**Question 2.2** Create a table called `full_data_with_value` that's a copy of `full_data`, with an extra column called `\"Value\"` containing each player's value (according to our crude measure).  Then make a histogram of players' values. **Specify bins that go from 0 to 2 with a step size of 0.05**."
   ]
  },
  {
   "cell_type": "code",
   "execution_count": 236,
   "metadata": {},
   "outputs": [],
   "source": [
    "full_data_with_value = ...\n",
    "value_bins = ...\n",
    "full_data_with_value.hist(\"Value\", bins=value_bins)"
   ]
  },
  {
   "cell_type": "markdown",
   "metadata": {
    "deletable": false,
    "editable": false
   },
   "source": [
    "The histogram above exludes the records for a few players. Create a new table called `highest_value` that contains the rows from the `full_data_with_value` for those players.\n",
    "\n",
    "_Hint:_ Sort the `full_data_with_value` to figure out whose entries were not represented in the histogram.\n",
    "\n",
    "_Hint:_ Think about how to contstruct the `where` statement that will retrieve the rows, missing from the histogram.\n",
    "\n",
    "<!--\n",
    "BEGIN QUESTION\n",
    "name: q2_2\n",
    "manual: false\n",
    "points: 3\n",
    "-->"
   ]
  },
  {
   "cell_type": "code",
   "execution_count": 237,
   "metadata": {},
   "outputs": [],
   "source": [
    "...\n",
    "highest_value"
   ]
  },
  {
   "cell_type": "code",
   "execution_count": null,
   "metadata": {
    "deletable": false,
    "editable": false
   },
   "outputs": [],
   "source": [
    "ok.grade(\"q2_2\");"
   ]
  },
  {
   "cell_type": "markdown",
   "metadata": {
    "deletable": false,
    "editable": false
   },
   "source": [
    "Now suppose we weren't able to find out every player's salary.  (Perhaps it was too costly to interview each player.)  Instead, we have gathered a *simple random sample* of 100 players' salaries.  The cell below loads those data."
   ]
  },
  {
   "cell_type": "code",
   "execution_count": 242,
   "metadata": {},
   "outputs": [],
   "source": [
    "sample_salary_data = Table.read_table(\"sample_salary_data.csv\")\n",
    "sample_salary_data.show(3)"
   ]
  },
  {
   "cell_type": "markdown",
   "metadata": {
    "deletable": false,
    "editable": false
   },
   "source": [
    "**Question 2.3** Make a histogram of the values of the players in `sample_salary_data`, using the same method for measuring value we used in Question 2.2. We are going to use the same bins.\n",
    "\n",
    "*Hint:* This will take several steps. Basically, you need to repeat the things you have done for `full_data`.\n",
    "\n",
    "<!--\n",
    "BEGIN QUESTION\n",
    "name: q2_3\n",
    "manual: false\n",
    "points: 4\n",
    "-->"
   ]
  },
  {
   "cell_type": "code",
   "execution_count": 243,
   "metadata": {
    "scrolled": false
   },
   "outputs": [],
   "source": [
    "sample_data = ...\n",
    "sample_data_with_value = ...\n",
    "sample_data_with_value.hist(\"Value\",bins=value_bins)"
   ]
  },
  {
   "cell_type": "code",
   "execution_count": null,
   "metadata": {
    "deletable": false,
    "editable": false
   },
   "outputs": [],
   "source": [
    "ok.grade(\"q2_3\");"
   ]
  },
  {
   "cell_type": "markdown",
   "metadata": {
    "deletable": false,
    "editable": false
   },
   "source": [
    "Now let us summarize what we have seen.  To guide you, we have written most of the summary already.\n",
    "\n",
    "**Question 2.4**  Which of the above plots is an empirical histogram, the one from Question 2.2 or Question 2.3? Set the variable `empirical` to either 2 (for Question 2.2) or 3 (for Question 2.3).\n",
    "\n",
    "<!--\n",
    "BEGIN QUESTION\n",
    "name: q2_4\n",
    "manual: false\n",
    "points: 2\n",
    "-->"
   ]
  },
  {
   "cell_type": "code",
   "execution_count": 248,
   "metadata": {},
   "outputs": [],
   "source": [
    "empirical = ..."
   ]
  },
  {
   "cell_type": "code",
   "execution_count": null,
   "metadata": {
    "deletable": false,
    "editable": false
   },
   "outputs": [],
   "source": [
    "ok.grade(\"q2_4\");"
   ]
  },
  {
   "cell_type": "markdown",
   "metadata": {
    "deletable": false,
    "editable": false
   },
   "source": [
    "**Question 2.5** Does the plot in Question 2.3 accurately depict the proportion of players *in the population* whose value is between 0 and 0.5?  Set variable `between` to either boolean `True` or `False` with your answer.\n",
    "\n",
    "_Hint_: To answer the question, look at the proportion of players *in the population* (the original `full_data`) and compare them to those whose value is between 0 and 0.5 in Queston 2.3.\n",
    "\n",
    "<!--\n",
    "BEGIN QUESTION\n",
    "name: q2_5\n",
    "manual: false\n",
    "points: 2\n",
    "-->"
   ]
  },
  {
   "cell_type": "code",
   "execution_count": 251,
   "metadata": {},
   "outputs": [],
   "source": [
    "between = ..."
   ]
  },
  {
   "cell_type": "code",
   "execution_count": null,
   "metadata": {
    "deletable": false,
    "editable": false
   },
   "outputs": [],
   "source": [
    "ok.grade(\"q2_5\");"
   ]
  },
  {
   "cell_type": "markdown",
   "metadata": {
    "deletable": false,
    "editable": false
   },
   "source": [
    "**Question 2.6** Does the plot in Question 2.3 accurately depict the proportion of players *in the population* whose value is above 0.5? Set variable `above` to either True or False with your answer.\n",
    "\n",
    "<!--\n",
    "BEGIN QUESTION\n",
    "name: q2_6\n",
    "manual: false\n",
    "points: 2\n",
    "-->"
   ]
  },
  {
   "cell_type": "code",
   "execution_count": 255,
   "metadata": {},
   "outputs": [],
   "source": [
    "above = ..."
   ]
  },
  {
   "cell_type": "code",
   "execution_count": null,
   "metadata": {
    "deletable": false,
    "editable": false
   },
   "outputs": [],
   "source": [
    "ok.grade(\"q2_6\");"
   ]
  },
  {
   "cell_type": "markdown",
   "metadata": {},
   "source": [
    "## 3. How Many Devices?"
   ]
  },
  {
   "cell_type": "markdown",
   "metadata": {
    "deletable": false,
    "editable": false
   },
   "source": [
    "When a company produces medical devices, it must be sure that its devices will not fail.  Sampling is used ubiquitously in the medical device industry to test how well devices work.\n",
    "\n",
    "Suppose you work at a company that produces stethoscopes, and you are responsible for ensuring the stethoscopes work well. After studying the manufacturing process for the stethoscopes, you have a hunch that they have a 3% failure rate.\n",
    "\n",
    "To test your hunch, you would like to find at least one faulty stethoscope.  You hire an expert consultant who can test a stethoscope to check whether it is faulty.  But the expert's time is expensive, so you need to avoid checking more stethoscopes than you need to.\n",
    "\n",
    "**Important note:** This exercise asks you to compute numbers that are related to probabilities.  For all questions, you can calculate your answer using algebra, **or** you can write and run a simulation to compute an approximately-correct answer.  (For practice, we suggest trying both.)  An answer based on an appropriate simulation will receive full credit.  If you simulate, use at least **5,000** trials.\n",
    "\n",
    "**Question 3.1** Suppose there is indeed a 3% failure rate among all stethoscopes.  If you check 30 stethoscopes chosen at random from among all stethoscopes, what is the chance that you find at least 1 faulty stethoscope?  (You may assume that stethoscopes are chosen with replacement from a population in which 3% of stethoscopes are faulty.)  Name your answer `chance_to_find_stethoscope`.\n",
    "\n",
    "*Hint* : You can find more about sampling [here](https://www.inferentialthinking.com/chapters/09/3/Simulation).\n",
    "\n",
    "<!--\n",
    "BEGIN QUESTION\n",
    "name: q3_1\n",
    "manual: false\n",
    "points: 2\n",
    "-->"
   ]
  },
  {
   "cell_type": "code",
   "execution_count": 258,
   "metadata": {},
   "outputs": [],
   "source": [
    "# For your convenience, we have created a list containing\n",
    "# 97 copies of the number 0 (to represent good stethoscope)\n",
    "# and 3 copies of the number 1 (to represent three bad \n",
    "# stethoscopes). This may be useful if you run a \n",
    "# simulation. Feel free to delete it.\n",
    "faultiness = np.append(0*np.arange(97), [1,1,1])\n",
    "\n",
    "...\n",
    "\n",
    "chance_to_find_stethoscope = ...\n",
    "chance_to_find_stethoscope"
   ]
  },
  {
   "cell_type": "code",
   "execution_count": null,
   "metadata": {
    "deletable": false,
    "editable": false
   },
   "outputs": [],
   "source": [
    "ok.grade(\"q3_1\");"
   ]
  },
  {
   "cell_type": "markdown",
   "metadata": {
    "deletable": false,
    "editable": false
   },
   "source": [
    "**Question 3.2** Continue to assume that there really is a 3% failure rate.  Find the **smallest number** of stethoscopes you can check so that you have at least a 50% chance of finding a faulty stethoscope.  (Your answer should be an integer.)  Name that number `num_required_for_50_percent`. \n",
    "\n",
    "*Hint*: Check the setup of the problem that helps you find probabilities as the number of rolls increases from 1 to 50 [here](https://www.inferentialthinking.com/chapters/09/5/Finding_Probabilities).\n",
    "\n",
    "<!--\n",
    "BEGIN QUESTION\n",
    "name: q3_2\n",
    "manual: false\n",
    "points: 2\n",
    "-->"
   ]
  },
  {
   "cell_type": "code",
   "execution_count": 260,
   "metadata": {},
   "outputs": [],
   "source": [
    "...\n",
    "\n",
    "num_required_for_50_percent = ...\n",
    "num_required_for_50_percent"
   ]
  },
  {
   "cell_type": "code",
   "execution_count": null,
   "metadata": {
    "deletable": false,
    "editable": false
   },
   "outputs": [],
   "source": [
    "ok.grade(\"q3_2\");"
   ]
  },
  {
   "cell_type": "markdown",
   "metadata": {
    "deletable": false,
    "editable": false
   },
   "source": [
    "**Question 3.3** A doctor purchased 5 stethoscopes and found 4 of them to be faulty. Assuming that there is indeed a 3% failure rate, what was the probability of **exactly 4** out of 5 stethoscopes being faulty? \n",
    "\n",
    "Let's see if we can build up to the correct answer.\n",
    "\n",
    "* What is the chance that a stethoscope **is** faulty? (_Hint: What's your failure rate?_) Assign that probability to `probability_of_faulty`.\n",
    "* What is the chance that a stethoscope is **not** faulty? Assign that probability to `probability_of_not_faulty` using the variable `probability_of_faulty` from above. \n",
    "* What is the chance that you checked the first stethoscope and it was **not** faulty followed by the rest of the 4 stethoscopes that were faulty? Assign that probability to `probability_of_one_not_faulty`.\n",
    "* Now, back to our original question of computing the `probability_of_four_faulty`. You already know the probability of the first stethoscope being not faulty and the others being faulty (that was `probability_of_one_not_faulty`). In how many ways can you arrange the one functioning stethoscope among the faulty ones? Once you know this, you can compute `probability_of_four_faulty`, which is the probability of **exactly 4** out of 5 stethoscopes being faulty.\n",
    "\n",
    "<!--\n",
    "BEGIN QUESTION\n",
    "name: q3_3\n",
    "manual: false\n",
    "points: 2\n",
    "-->"
   ]
  },
  {
   "cell_type": "code",
   "execution_count": 264,
   "metadata": {
    "scrolled": true
   },
   "outputs": [],
   "source": [
    "probability_of_faulty = ...\n",
    "probability_of_not_faulty = ...\n",
    "probability_of_one_not_faulty = ...\n",
    "probability_of_four_faulty = ...\n",
    "probability_of_four_faulty "
   ]
  },
  {
   "cell_type": "code",
   "execution_count": null,
   "metadata": {
    "deletable": false,
    "editable": false
   },
   "outputs": [],
   "source": [
    "ok.grade(\"q3_3\");"
   ]
  },
  {
   "cell_type": "markdown",
   "metadata": {
    "deletable": false,
    "editable": false
   },
   "source": [
    "**Question 3.4** Assuming that there is indeed a 3% failure rate, assign `order` to a **list** of the numbers 1 through 7, ordered by the size of the quantities described below from smallest to largest. For example, `order` will start with 2 because list item 2 (\"Zero\") is the smallest quantity.\n",
    "\n",
    "1. One half\n",
    "2. Zero\n",
    "3. The chance that **zero** out of 5 stethoscopes are faulty.\n",
    "4. The chance that **at least 1** out of 5 stethoscopes is faulty.\n",
    "5. The chance that **exactly 4** out of 5 stethoscopes are faulty.\n",
    "6. The chance that **at least 4** out of 5 stethoscopes are faulty.\n",
    "7. The chance that **all 5** out of 5 stethoscopes are faulty.\n",
    "\n",
    "<!--\n",
    "BEGIN QUESTION\n",
    "name: q3_4\n",
    "manual: false\n",
    "points: 2\n",
    "-->"
   ]
  },
  {
   "cell_type": "code",
   "execution_count": 271,
   "metadata": {},
   "outputs": [],
   "source": [
    "order = ..."
   ]
  },
  {
   "cell_type": "code",
   "execution_count": null,
   "metadata": {
    "deletable": false,
    "editable": false
   },
   "outputs": [],
   "source": [
    "ok.grade(\"q3_4\");"
   ]
  },
  {
   "cell_type": "markdown",
   "metadata": {
    "deletable": false,
    "editable": false
   },
   "source": [
    "Congratulations! You are finished with this homework!"
   ]
  },
  {
   "cell_type": "markdown",
   "metadata": {
    "deletable": false,
    "editable": false
   },
   "source": [
    "# Submit\n",
    "Make sure you have run all cells in your notebook in order before running the cell below, so that all images/graphs appear in the output.\n",
    "**Please save before submitting!**"
   ]
  },
  {
   "cell_type": "code",
   "execution_count": null,
   "metadata": {
    "deletable": false,
    "editable": false
   },
   "outputs": [],
   "source": [
    "# Save your notebook first, then run this cell to submit.\n",
    "ok.submit()"
   ]
  }
 ],
 "metadata": {
  "celltoolbar": "Raw Cell Format",
  "kernelspec": {
   "display_name": "Python 3",
   "language": "python",
   "name": "python3"
  },
  "language_info": {
   "codemirror_mode": {
    "name": "ipython",
    "version": 3
   },
   "file_extension": ".py",
   "mimetype": "text/x-python",
   "name": "python",
   "nbconvert_exporter": "python",
   "pygments_lexer": "ipython3",
   "version": "3.6.7"
  }
 },
 "nbformat": 4,
 "nbformat_minor": 2
}
