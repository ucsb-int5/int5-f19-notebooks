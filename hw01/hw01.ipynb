{
 "cells": [
  {
   "cell_type": "code",
   "execution_count": null,
   "metadata": {
    "deletable": false,
    "editable": false
   },
   "outputs": [],
   "source": [
    "# Initialize OK\n",
    "from client.api.notebook import Notebook\n",
    "ok = Notebook('hw01.ok')"
   ]
  },
  {
   "cell_type": "code",
   "execution_count": 1,
   "metadata": {
    "tags": [
     "remove_input"
    ]
   },
   "outputs": [],
   "source": [
    "# Run this cell, but please don't change it.\n",
    "\n",
    "# These lines import the Numpy and Datascience modules.\n",
    "import numpy as np\n",
    "from datascience import *\n",
    "\n",
    "np.set_printoptions(threshold=50)\n",
    "\n",
    "# These lines do some fancy plotting magic\n",
    "import matplotlib\n",
    "%matplotlib inline\n",
    "import matplotlib.pyplot as plots\n",
    "plots.style.use('fivethirtyeight')\n",
    " \n",
    "#from client.api.notebook import Notebook\n",
    "#ok = Notebook('hw01.ok')\n",
    "#_ = ok.auth(inline=True)"
   ]
  },
  {
   "cell_type": "markdown",
   "metadata": {},
   "source": [
    "# Homework 1: Population Trends\n",
    "\n",
    "_The examples in this assignment are based directly on Chapters 6.3 and 6.4 of the_ [online textbook](https://www.inferentialthinking.com/chapters/06/3/Example_Trends_in_the_Population_of_the_United_States.html). Some information was removed and new information and questions were added in italics. Feel free to cross-reference the book to figure out how to solve the questions.\n",
    "\n",
    "### Read all instructions carefully\n",
    "\n",
    "**To maximize your learning and understanding of the material, we strongly recommend carefully reading the instructions and making an honest attempt at solving the problem yourself (i.e., on your own) before discussing it with anyone or asking for help.**\n",
    "\n",
    "This assignment should be your own work, done entirely by you using your own words and solutions (using the code provided in the textbook).\n",
    "By submitting this assignment, you acknowldge that you have read the information on [Academic Integrity](https://studentconduct.sa.ucsb.edu/academic-integrity) and verify that this assignment constitutes your own work.\n",
    "\n",
    "**Important**: The `ok` tests don't usually tell you that your answer is correct. More often, they help catch careless mistakes. It's up to you to ensure that your answer is correct. If you're not sure, ask someone (not for the answer, but for some guidance about your approach).\n",
    "\n",
    "Submitting your work:\n",
    "\n",
    "Once you're finished, select \"Save and Checkpoint\" in the File menu and then execute the `ok.submit()` cell below. See additional instructions on how to submit your work at the end of this notebook."
   ]
  },
  {
   "cell_type": "markdown",
   "metadata": {
    "deletable": false,
    "editable": false
   },
   "source": [
    "# The U.S. Census Data\n",
    "\n",
    "_Before we begin looking at the files, let's first understand what we are working with and why. \n",
    "According to the [Decennial Census of Population and Housing](https://www.census.gov/programs-surveys/decennial-census/about.html):\n",
    "\"Every 10 years, the U.S. Census Bureau conducts a census to determine the number of people living in the United States.\" Read more about it on the linked page and in your own words explain why the census takes place._\n",
    "<!--\n",
    "BEGIN QUESTION\n",
    "name: q1_0\n",
    "manual: true\n",
    "-->\n",
    "<!-- EXPORT TO PDF -->"
   ]
  },
  {
   "cell_type": "markdown",
   "metadata": {},
   "source": [
    "_Write your explanation here._"
   ]
  },
  {
   "cell_type": "markdown",
   "metadata": {},
   "source": [
    "# Example: Population Trends\n",
    "\n",
    "The file below contains \"Annual Estimates of the Resident Population by Single Year of Age and Sex for the United States.\" Notice that `read_table` can read data directly from a URL."
   ]
  },
  {
   "cell_type": "code",
   "execution_count": 2,
   "metadata": {},
   "outputs": [],
   "source": [
    "# As of Jan 2017, this census file is online here: \n",
    "data = 'http://www2.census.gov/programs-surveys/popest/datasets/2010-2015/national/asrh/nc-est2015-agesex-res.csv'\n",
    "\n",
    "# A local copy can be accessed here in case census.gov moves the file:\n",
    "# data = path_data + 'nc-est2015-agesex-res.csv'\n",
    "\n",
    "full_census_table_2015 = Table.read_table(data)\n",
    "full_census_table_2015"
   ]
  },
  {
   "cell_type": "code",
   "execution_count": 3,
   "metadata": {},
   "outputs": [],
   "source": [
    "# As of Nov 2019, this agesex-res file for 2018 is not yet available, so we'll use 2017 that is online here: \n",
    "data = 'http://www2.census.gov/programs-surveys/popest/datasets/2010-2017/national/asrh/nc-est2017-agesex-res.csv'\n",
    "\n",
    "# A local copy can be accessed here in case census.gov moves the file:\n",
    "# data = path_data + 'nc-est2017-agesex-res.csv'\n",
    "\n",
    "full_census_table_2017 = Table.read_table(data)\n",
    "full_census_table_2017"
   ]
  },
  {
   "cell_type": "markdown",
   "metadata": {},
   "source": [
    "Only the first 10 rows of the table are displayed. You can use `.show()` to display the entire table; however, this is typically not useful with large tables.\n",
    "\n",
    "A [description of the table](http://www2.census.gov/programs-surveys/popest/datasets/2010-2015/national/asrh/nc-est2015-agesex-res.pdf) appears online. \n",
    "_This information is referred to as \"metadata\", that is data about the data._\n",
    "The `SEX` column contains numeric codes: `0` stands for the total, `1` for male, and `2` for female. The `AGE` column contains ages in completed years, but the special value `999` is a sum of the total population. The rest of the columns contain estimates of the US population.\n",
    "\n",
    "Typically, a public table will contain more information than necessary for a particular investigation or analysis. In this case, let us suppose that we are only interested in the population changes from 2010 to 2014. Let us `select` the relevant columns.\n",
    "\n",
    "_In this assignment, let's compare the CSV file used by the textbook (2015 estimates) as well as the latest available CSV from 2017. Let's see if the population estimates for 2010 and 2014 are the same in both files._"
   ]
  },
  {
   "cell_type": "code",
   "execution_count": 4,
   "metadata": {
    "scrolled": true
   },
   "outputs": [],
   "source": [
    "# use full_census_table_2015\n",
    "partial_census_table_2015 = full_census_table_2015.select(\n",
    "    'SEX', 'AGE', 'POPESTIMATE2010', 'POPESTIMATE2014')\n",
    "partial_census_table_2015"
   ]
  },
  {
   "cell_type": "markdown",
   "metadata": {
    "deletable": false,
    "editable": false
   },
   "source": [
    "_Now, try loading the estimates for the same years (2010 and 2014) along with the most recent estimates from 2017._\n",
    "<!--\n",
    "BEGIN QUESTION\n",
    "name: q1_1\n",
    "manual: false\n",
    "points: 2\n",
    "-->"
   ]
  },
  {
   "cell_type": "code",
   "execution_count": 5,
   "metadata": {
    "scrolled": false
   },
   "outputs": [],
   "source": [
    "# use full_census_table_2017\n",
    "...\n",
    "partial_census_table_2017"
   ]
  },
  {
   "cell_type": "code",
   "execution_count": null,
   "metadata": {
    "deletable": false,
    "editable": false
   },
   "outputs": [],
   "source": [
    "ok.grade(\"q1_1\");"
   ]
  },
  {
   "cell_type": "markdown",
   "metadata": {},
   "source": [
    "We can also simplify the labels of the selected columns."
   ]
  },
  {
   "cell_type": "code",
   "execution_count": 7,
   "metadata": {},
   "outputs": [],
   "source": [
    "us_pop_2015 = partial_census_table_2015.relabeled('POPESTIMATE2010', '2010').relabeled('POPESTIMATE2014', '2014')\n",
    "us_pop_2015.show(3)"
   ]
  },
  {
   "cell_type": "markdown",
   "metadata": {
    "deletable": false,
    "editable": false
   },
   "source": [
    "Create a new table using the `partial_census_table_2017` with the correctly relabeled columns.\n",
    "<!--\n",
    "BEGIN QUESTION\n",
    "name: q1_2\n",
    "manual: false\n",
    "points: 2\n",
    "-->"
   ]
  },
  {
   "cell_type": "code",
   "execution_count": 8,
   "metadata": {
    "scrolled": true
   },
   "outputs": [],
   "source": [
    "us_pop_2017 = ...\n",
    "us_pop_2017.show(3)"
   ]
  },
  {
   "cell_type": "code",
   "execution_count": null,
   "metadata": {
    "deletable": false,
    "editable": false
   },
   "outputs": [],
   "source": [
    "ok.grade(\"q1_2\");"
   ]
  },
  {
   "cell_type": "markdown",
   "metadata": {},
   "source": [
    "We now have a table that is easy to work with. Each column of the table is an array of the same length, and so columns can be combined using arithmetic. Here is the change in population between 2010 and 2014."
   ]
  },
  {
   "cell_type": "code",
   "execution_count": 10,
   "metadata": {
    "scrolled": true
   },
   "outputs": [],
   "source": [
    "# the change computed from the 2015 estimation\n",
    "us_pop_2015.column('2014') - us_pop_2015.column('2010')"
   ]
  },
  {
   "cell_type": "markdown",
   "metadata": {},
   "source": [
    "_Let's see if the change in population between 2010 and 2014 as estimated in 2017 is the same as what was estimated in 2015._"
   ]
  },
  {
   "cell_type": "code",
   "execution_count": 11,
   "metadata": {
    "scrolled": true
   },
   "outputs": [],
   "source": [
    "# the change between 2010 and 2014 computed from the 2017 estimation\n",
    "..."
   ]
  },
  {
   "cell_type": "markdown",
   "metadata": {},
   "source": [
    "_How different is the population estimate for 2010 or 2014 between the two files?_"
   ]
  },
  {
   "cell_type": "code",
   "execution_count": 12,
   "metadata": {},
   "outputs": [],
   "source": [
    "us_pop_2015.column('2014') - us_pop_2017.column('2014')"
   ]
  },
  {
   "cell_type": "markdown",
   "metadata": {},
   "source": [
    "_It looks like the population estimates for the same year vary depending on when the prediction was made._\n",
    "\n",
    "_If we consult the official [\"Population and Housing Unit Estimates Tables\" website](https://www.census.gov/programs-surveys/popest/data/tables.html), it states that: \n",
    "\"Each new series of data (called vintages) incorporates the latest administrative record data, geographic boundaries, and methodology. Therefore, the entire time series of estimates beginning with the most recent decennial census is revised annually, and estimates from different vintages of data may not be consistent across geography and characteristics detail.\"_\n",
    "\n",
    "_Since the numbers for the same year are re-estimated, let us use the most recent estimates from 2017, which are stored in_ `us_pop_2017`."
   ]
  },
  {
   "cell_type": "markdown",
   "metadata": {},
   "source": [
    "## Population Change\n",
    "\n",
    "Let us augment each `us_pop` table with a column that contains these changes, both in absolute terms and as percents relative to the value in 2010."
   ]
  },
  {
   "cell_type": "code",
   "execution_count": 13,
   "metadata": {},
   "outputs": [],
   "source": [
    "# this is the code from the textbook with the old table name\n",
    "\n",
    "# change = us_pop.column('2014') - us_pop.column('2010')\n",
    "# census = us_pop.with_columns(\n",
    "#     'Change', change,\n",
    "#     'Percent Change', change/us_pop.column('2010')\n",
    "# )\n",
    "# census.set_format('Percent Change', PercentFormatter)"
   ]
  },
  {
   "cell_type": "markdown",
   "metadata": {},
   "source": [
    "_So far we have been copying and pasting the same code and changing the name of the table. Doing so it tells us that we can write a function that uses the name of a table as an argument. Using a function, we can apply the same sequence of steps to different tables and/or to different columns._ "
   ]
  },
  {
   "cell_type": "code",
   "execution_count": 14,
   "metadata": {},
   "outputs": [],
   "source": [
    "def add_census_change_column( pop_table, year1, year2 ):\n",
    "    \"\"\"\n",
    "    Given the population table `pop_table` and two years \n",
    "    (`year1` and `year2` are strings) compute the change \n",
    "    in column values between those years (year2 > year1).\n",
    "    Create a `census` table and add the computed change\n",
    "    as a column called \"Change\" and another column\n",
    "    called \"Percent Change\" with the computed percents\n",
    "    \"\"\"\n",
    "    ...\n",
    "    return census.set_format('Percent Change', PercentFormatter)"
   ]
  },
  {
   "cell_type": "code",
   "execution_count": 15,
   "metadata": {
    "scrolled": true
   },
   "outputs": [],
   "source": [
    "census2015 = add_census_change_column( us_pop_2017, \"2010\", \"2014\" ).drop(\"2017\")\n",
    "census2015.show(5)"
   ]
  },
  {
   "cell_type": "code",
   "execution_count": 16,
   "metadata": {},
   "outputs": [],
   "source": [
    "census2017 = add_census_change_column( us_pop_2017, \"2010\", \"2017\" ).drop(\"2014\")\n",
    "census2017.show(5)"
   ]
  },
  {
   "cell_type": "markdown",
   "metadata": {},
   "source": [
    "**Sorting the data.** Let us sort the _two resulting tables_ in decreasing order of the absolute change in population."
   ]
  },
  {
   "cell_type": "code",
   "execution_count": 17,
   "metadata": {
    "scrolled": true
   },
   "outputs": [],
   "source": [
    "..."
   ]
  },
  {
   "cell_type": "code",
   "execution_count": 18,
   "metadata": {},
   "outputs": [],
   "source": [
    "..."
   ]
  },
  {
   "cell_type": "markdown",
   "metadata": {
    "deletable": false,
    "editable": false
   },
   "source": [
    "Not surprisingly, the top row of the sorted table is the line that corresponds to the entire population: both sexes and all age groups. From 2010 to 2014, the population of the United States increased by about 9.5 million people, a change of just over 3%.\n",
    "\n",
    "_How much did the population estimate change in 2017? Is the change larger or smaller than it was in 2014? Are there more males or females?_\n",
    "\n",
    "<!--\n",
    "BEGIN QUESTION\n",
    "name: q2_3\n",
    "manual: true\n",
    "-->\n",
    "<!-- EXPORT TO PDF -->"
   ]
  },
  {
   "cell_type": "markdown",
   "metadata": {},
   "source": [
    "_Write your answer here._"
   ]
  },
  {
   "cell_type": "markdown",
   "metadata": {},
   "source": [
    "The next two rows correspond to all the men and all the women respectively. The male population grew more than the female population, both in absolute and percentage terms. Both percent changes were around 3% in 2014.\n",
    "\n",
    "Now take a look at the next few rows. The percent change jumps from about 3% for the overall population in 2014 to almost 30% for the people in their late sixties and early seventies. This stunning change contributes to what is known as the greying of America.\n",
    "\n",
    "By far the greatest absolute change was among those in the 64-67 agegroup in 2014. What could explain this large increase? We can explore this question by examining the years in which the relevant groups were born.\n",
    "\n",
    "- Those who were in the 64-67 age group in 2010 were born in the years 1943 to 1946. The attack on Pearl Harbor was in late 1941, and by 1942 U.S. forces were heavily engaged in a massive war that ended in 1945. \n",
    "\n",
    "- Those who were 64 to 67 years old in 2014 were born in the years 1947 to 1950, at the height of the post-WWII baby boom in the United States. \n",
    "\n",
    "The post-war jump in births is the major reason for the large changes that we have observed."
   ]
  },
  {
   "cell_type": "markdown",
   "metadata": {},
   "source": [
    "# Example: Trends in Gender\n",
    "\n",
    "We are now equipped with enough coding skills to examine features and trends in subgroups of the U.S. population. In this example, we will look at the distribution of males and females across age groups. We will continue using the `us_pop_2017` table from the previous section."
   ]
  },
  {
   "cell_type": "code",
   "execution_count": 19,
   "metadata": {},
   "outputs": [],
   "source": [
    "us_pop = us_pop_2017\n",
    "us_pop"
   ]
  },
  {
   "cell_type": "markdown",
   "metadata": {},
   "source": [
    "Here is a reminder of what the table contains.\n",
    "\n",
    "Each row represents an age group. The `SEX` column contains numeric codes: `0` stands for the total, `1` for male, and `2` for female. The `AGE` column contains ages in completed years, but the special value `999` represents the entire population regardless of age. The rest of the columns contain estimates of the US population."
   ]
  },
  {
   "cell_type": "markdown",
   "metadata": {
    "deletable": false,
    "editable": false
   },
   "source": [
    "### Understanding `AGE` = 100 ###\n",
    "As a preliminary, let's interpret data in the final age category in the table, where `AGE` is 100. The code below extracts the rows for the combined group of men and women (`SEX` code 0) for the ages above 97.\n",
    "<!--\n",
    "BEGIN QUESTION\n",
    "name: q_age_100\n",
    "manual: false\n",
    "points: 2\n",
    "-->"
   ]
  },
  {
   "cell_type": "code",
   "execution_count": 20,
   "metadata": {
    "scrolled": true
   },
   "outputs": [],
   "source": [
    "older_pop = ...\n",
    "older_pop"
   ]
  },
  {
   "cell_type": "code",
   "execution_count": null,
   "metadata": {
    "deletable": false,
    "editable": false
   },
   "outputs": [],
   "source": [
    "ok.grade(\"q_age_100\");"
   ]
  },
  {
   "cell_type": "markdown",
   "metadata": {},
   "source": [
    "Not surprisingly, the numbers of people are smaller at higher ages – for example, there are fewer 99-year-olds than 98-year-olds. \n",
    "\n",
    "It does come as a surprise, though, that the numbers for `AGE` 100 are quite a bit larger than those for age 99. "
   ]
  },
  {
   "cell_type": "markdown",
   "metadata": {
    "deletable": false,
    "editable": false
   },
   "source": [
    "_Read the book (or the table documentation) for an explanation of why this is the case. In your own words provide an explanation for this phenomena._\n",
    "<!--\n",
    "BEGIN QUESTION\n",
    "name: q2_1\n",
    "manual: true\n",
    "-->\n",
    "<!-- EXPORT TO PDF -->"
   ]
  },
  {
   "cell_type": "markdown",
   "metadata": {},
   "source": [
    "_Write your answer here._"
   ]
  },
  {
   "cell_type": "markdown",
   "metadata": {},
   "source": [
    "### Overall Proportions of Males and Females ###\n",
    "We will now begin looking at gender ratios in 2014. First, let's look at all the age groups together. Remember that this means looking at the rows where the \"age\" is coded 999. The table `all_ages` contains this information. There are three rows: one for the total of both genders, one for males (`SEX` code 1), and one for females (`SEX` code 2)."
   ]
  },
  {
   "cell_type": "code",
   "execution_count": 25,
   "metadata": {},
   "outputs": [],
   "source": [
    "us_pop_latest = us_pop.drop('2010')\n",
    "all_ages = ...\n",
    "all_ages"
   ]
  },
  {
   "cell_type": "markdown",
   "metadata": {
    "deletable": false,
    "editable": false
   },
   "source": [
    "Row 0 of `all_ages` contains the total U.S. population in each of the two years. The United States had just under 319 million in 2014. _Looks like in 2017 the population increased to 325 million._\n",
    "\n",
    "_Calculate the overall growth rate for the population between the estimation in 2014 and 2017._\n",
    "\n",
    "_Hint 1: Use the function you already defined above to add the \"Change\" and \"Percent Change\" columns._\n",
    "\n",
    "_Hint 2: Use the table_ `all_ages` _as the input argument_.\n",
    "<!--\n",
    "BEGIN QUESTION\n",
    "name: q_census_change\n",
    "manual: false\n",
    "points: 2\n",
    "-->"
   ]
  },
  {
   "cell_type": "code",
   "execution_count": 26,
   "metadata": {
    "scrolled": false
   },
   "outputs": [],
   "source": [
    "census_change = ..."
   ]
  },
  {
   "cell_type": "code",
   "execution_count": null,
   "metadata": {
    "deletable": false,
    "editable": false
   },
   "outputs": [],
   "source": [
    "ok.grade(\"q_census_change\");"
   ]
  },
  {
   "cell_type": "code",
   "execution_count": 28,
   "metadata": {},
   "outputs": [],
   "source": [
    "census_change.show()"
   ]
  },
  {
   "cell_type": "markdown",
   "metadata": {},
   "source": [
    "Row 1 contains the counts for males and Row 2 for females. Compare these two rows to see that in 2014 _and in 2017_, there were more females than males in the United States. \n",
    "\n",
    "The population counts in Row 1 and Row 2 add up to the total population in Row 0. "
   ]
  },
  {
   "cell_type": "markdown",
   "metadata": {
    "deletable": false,
    "editable": false
   },
   "source": [
    "For comparability with other quantities, we will need to convert these counts to percents out of the total population. Let's access the total for 2014 and name it. Then, we'll show a population table with a proportion column. _In order to repeat the same analysis for the year 2017 without copy/pasting the code, let's define a new function and use it in order to obtain the proportions._\n",
    "\n",
    "<!--\n",
    "BEGIN QUESTION\n",
    "name: q_add_proportion\n",
    "manual: false\n",
    "points: 2\n",
    "-->"
   ]
  },
  {
   "cell_type": "code",
   "execution_count": 29,
   "metadata": {},
   "outputs": [],
   "source": [
    "def add_proportion( pop_table, year ):\n",
    "    \"\"\"\n",
    "    Given the population table `pop_table` and a year\n",
    "    (`year` is a string) compute the proportion for that\n",
    "    year, given the total population in that year .\n",
    "    Add the computed column called \"Proportion\" and \n",
    "    return the resulting table.\n",
    "    \"\"\"\n",
    "    pop_in_year = ...\n",
    "    result_table = pop_table.with_column(\n",
    "        'Proportion', pop_table.column(year) / pop_in_year\n",
    "        ).set_format('Proportion', PercentFormatter)\n",
    "    return result_table"
   ]
  },
  {
   "cell_type": "code",
   "execution_count": null,
   "metadata": {
    "deletable": false,
    "editable": false
   },
   "outputs": [],
   "source": [
    "ok.grade(\"q_add_proportion\");"
   ]
  },
  {
   "cell_type": "code",
   "execution_count": 31,
   "metadata": {
    "scrolled": true
   },
   "outputs": [],
   "source": [
    "pop_2014 = add_proportion(all_ages, \"2014\")\n",
    "pop_2014.drop(\"2017\")"
   ]
  },
  {
   "cell_type": "code",
   "execution_count": 32,
   "metadata": {},
   "outputs": [],
   "source": [
    "pop_2017 = add_proportion(all_ages, \"2017\")\n",
    "pop_2017.drop(\"2014\")"
   ]
  },
  {
   "cell_type": "markdown",
   "metadata": {},
   "source": [
    "Consistent with our earlier observation that there were more females than males, about 50.8% of the population in 2014 was female and about 49.2% male in each of the two years."
   ]
  },
  {
   "cell_type": "markdown",
   "metadata": {},
   "source": [
    "### Proportions of Boys and Girls among Infants"
   ]
  },
  {
   "cell_type": "markdown",
   "metadata": {
    "deletable": false,
    "editable": false
   },
   "source": [
    "When we look at infants, however, the opposite is true. Let's define infants to be babies who have not yet completed one year, represented in the row corresponding to `AGE` 0. Here are their numbers in the population (_using the table_ `us_pop_latest`). You can see that male infants outnumbered female infants.\n",
    "<!--\n",
    "BEGIN QUESTION\n",
    "name: q_infants\n",
    "manual: false\n",
    "points: 2\n",
    "-->"
   ]
  },
  {
   "cell_type": "code",
   "execution_count": 33,
   "metadata": {
    "scrolled": true
   },
   "outputs": [],
   "source": [
    "infants = ...\n",
    "infants"
   ]
  },
  {
   "cell_type": "code",
   "execution_count": null,
   "metadata": {
    "deletable": false,
    "editable": false
   },
   "outputs": [],
   "source": [
    "ok.grade(\"q_infants\");"
   ]
  },
  {
   "cell_type": "markdown",
   "metadata": {},
   "source": [
    "As before, we can convert these counts to percents out of the total numbers of infants. The resulting table shows that in 2014 and 2017, just over 51% of infants in the U.S. were male. "
   ]
  },
  {
   "cell_type": "code",
   "execution_count": 35,
   "metadata": {},
   "outputs": [],
   "source": [
    "infants_2014 = add_proportion(infants, \"2014\")\n",
    "infants_2014.drop(\"2017\")"
   ]
  },
  {
   "cell_type": "code",
   "execution_count": 36,
   "metadata": {},
   "outputs": [],
   "source": [
    "infants_2017 = add_proportion(infants, \"2017\")\n",
    "infants_2017.drop(\"2014\")"
   ]
  },
  {
   "cell_type": "markdown",
   "metadata": {},
   "source": [
    "In fact, it has long been observed that the proportion of boys among newborns is slightly more than 1/2. The reason for this is not thoroughly understood, and [scientists are still working on it](http://www.npr.org/sections/health-shots/2015/03/30/396384911/why-are-more-baby-boys-born-than-girls)."
   ]
  },
  {
   "cell_type": "markdown",
   "metadata": {},
   "source": [
    "### Female:Male Gender Ratio at Each Age ###"
   ]
  },
  {
   "cell_type": "markdown",
   "metadata": {},
   "source": [
    "We have seen that while there are more baby boys than baby girls, there are more females than males overall. So it's clear that the split between genders must vary across age groups.\n",
    "\n",
    "To study this variation, we will separate out the data for the females and the males, and eliminate the row where all the ages are aggregated and `AGE` is coded as 999.\n",
    "\n",
    "The tables `females` and `males` contain the data for each the two genders."
   ]
  },
  {
   "cell_type": "code",
   "execution_count": 37,
   "metadata": {},
   "outputs": [],
   "source": [
    "females_all_rows = ...\n",
    "females = ...\n",
    "females"
   ]
  },
  {
   "cell_type": "code",
   "execution_count": 38,
   "metadata": {},
   "outputs": [],
   "source": [
    "males_all_rows = ...\n",
    "males = ...\n",
    "males"
   ]
  },
  {
   "cell_type": "markdown",
   "metadata": {},
   "source": [
    "The plan now is to compare the number of women and the number of men at each age, for each of the two years. Array and Table methods give us straightforward ways to do this. Both of these tables have one row for each age."
   ]
  },
  {
   "cell_type": "code",
   "execution_count": 39,
   "metadata": {},
   "outputs": [],
   "source": [
    "males.column('AGE')"
   ]
  },
  {
   "cell_type": "code",
   "execution_count": 40,
   "metadata": {},
   "outputs": [],
   "source": [
    "females.column('AGE')"
   ]
  },
  {
   "cell_type": "markdown",
   "metadata": {
    "deletable": false,
    "editable": false
   },
   "source": [
    "For any given age, we can get the Female:Male gender ratio by dividing the number of females by the number of males. To do this in one step, we can use `column` to extract the array of female counts and the corresponding array of male counts, and then simply divide one array by the other. Elementwise division will create an array of gender ratios for all the years.\n",
    "\n",
    "_Let's store the result in a table that has the `AGE`, `2014 F:M RATIO` and `2017 F:M RATIO` columns._\n",
    "\n",
    "<!--\n",
    "BEGIN QUESTION\n",
    "name: q_ratios\n",
    "manual: false\n",
    "points: 2\n",
    "-->"
   ]
  },
  {
   "cell_type": "code",
   "execution_count": 41,
   "metadata": {},
   "outputs": [],
   "source": [
    "ratios = Table().with_columns(\n",
    "...\n",
    ")\n",
    "ratios"
   ]
  },
  {
   "cell_type": "code",
   "execution_count": null,
   "metadata": {
    "deletable": false,
    "editable": false
   },
   "outputs": [],
   "source": [
    "ok.grade(\"q_ratios\");"
   ]
  },
  {
   "cell_type": "markdown",
   "metadata": {},
   "source": [
    "You can see from the display that the ratios are all around 0.96 for children aged nine or younger. When the Female:Male ratio is less than 1, there are fewer females than males. Thus what we are seeing is that there were fewer girls than boys in each of the age groups 0, 1, 2, and so on through 9. Moreover, in each of these age groups, there were about 96 girls for every 100 boys."
   ]
  },
  {
   "cell_type": "markdown",
   "metadata": {
    "deletable": false,
    "editable": false
   },
   "source": [
    "So how can the overall proportion of females in the population be higher than the males? \n",
    "\n",
    "Something extraordinary happens when we examine the other end of the age range. Here are the Female:Male ratios for people aged more than 75.\n",
    "<!--\n",
    "BEGIN QUESTION\n",
    "name: q_older_than_75\n",
    "manual: false\n",
    "points: 2\n",
    "-->"
   ]
  },
  {
   "cell_type": "code",
   "execution_count": 44,
   "metadata": {
    "scrolled": false
   },
   "outputs": [],
   "source": [
    "older_than_75 = ...\n",
    "older_than_75"
   ]
  },
  {
   "cell_type": "code",
   "execution_count": null,
   "metadata": {
    "deletable": false,
    "editable": false
   },
   "outputs": [],
   "source": [
    "ok.grade(\"q_older_than_75\");"
   ]
  },
  {
   "cell_type": "markdown",
   "metadata": {
    "deletable": false,
    "editable": false
   },
   "source": [
    "Not only are all of these ratios greater than 1, signifying more women than men in all of these age groups, many of them are considerably greater than 1. \n",
    "\n",
    "- At ages 89 and 90 the ratios are close to 2, meaning that there were about twice as many women as men at those ages in 2014.\n",
    "- At ages 98 and 99, there were about 3.5 to 4 times as many women as men. \n",
    "\n",
    "If you are wondering how many people there were at these advanced ages, you can use Python to find out:\n",
    "<!--\n",
    "BEGIN QUESTION\n",
    "name: q1_3_1\n",
    "manual: false\n",
    "points: 2\n",
    "-->"
   ]
  },
  {
   "cell_type": "code",
   "execution_count": 46,
   "metadata": {},
   "outputs": [],
   "source": [
    "males_older_than_98 = ...\n",
    "males_older_than_98"
   ]
  },
  {
   "cell_type": "code",
   "execution_count": null,
   "metadata": {
    "deletable": false,
    "editable": false
   },
   "outputs": [],
   "source": [
    "ok.grade(\"q1_3_1\");"
   ]
  },
  {
   "cell_type": "markdown",
   "metadata": {
    "deletable": false,
    "editable": false
   },
   "source": [
    "Do the same for the female counts.\n",
    "<!--\n",
    "BEGIN QUESTION\n",
    "name: q1_3_2\n",
    "manual: false\n",
    "points: 2\n",
    "-->"
   ]
  },
  {
   "cell_type": "code",
   "execution_count": 50,
   "metadata": {},
   "outputs": [],
   "source": [
    "females_older_than_98 = ...\n",
    "females_older_than_98"
   ]
  },
  {
   "cell_type": "code",
   "execution_count": null,
   "metadata": {
    "deletable": false,
    "editable": false
   },
   "outputs": [],
   "source": [
    "ok.grade(\"q1_3_2\");"
   ]
  },
  {
   "cell_type": "markdown",
   "metadata": {},
   "source": [
    "The graph below shows the gender ratios plotted against age. The blue curve shows the 2014 ratio by age; _the gold curve shows the same ratio in 2017_.\n",
    "\n",
    "The ratios are almost 1 (signifying close to equal numbers of males and females) for ages 0 through 60, but they start shooting up dramatically (more females than males) starting at about age 65."
   ]
  },
  {
   "cell_type": "code",
   "execution_count": 54,
   "metadata": {},
   "outputs": [],
   "source": [
    "ratios.plot('AGE')"
   ]
  },
  {
   "cell_type": "markdown",
   "metadata": {},
   "source": [
    "_We can zoom-in on the graph above to take a closer look at how the ratios for the estimation in 2014 differ from the 2017 estimations. To do this, we can plot the ratios for the ages 75 and above._"
   ]
  },
  {
   "cell_type": "code",
   "execution_count": 55,
   "metadata": {},
   "outputs": [],
   "source": [
    "ratios.where('AGE', are.above(74)).plot('AGE')"
   ]
  },
  {
   "cell_type": "markdown",
   "metadata": {},
   "source": [
    "# Bonus\n",
    "\n",
    "We encourage you to look at the information available on the <https://census.gov> website. Load the file(s) in the cells below and see what other insights you can gain from visualizing and analyzing the various data."
   ]
  },
  {
   "cell_type": "code",
   "execution_count": 56,
   "metadata": {},
   "outputs": [],
   "source": [
    "# Optional portion of the assignment to practice your skills\n",
    "# and discover new insights."
   ]
  },
  {
   "cell_type": "markdown",
   "metadata": {},
   "source": [
    "# Submission\n",
    "\n",
    "To submit:\n",
    "\n",
    "1. `Save and Checkpoint` from the `File` menu.\n",
    "2. `Kernel -> Restart & Clear Output` (make sure to save your work first!).\n",
    "3. `Cell -> Run All` to ensure that you have executed all cells, including the test cells.\n",
    "4. Read through the notebook to make sure there are **no errors** and you answered **all questions**.\n",
    "4. Submit using the cell below. The result will contain a link that you can use to check that your assignment has been submitted successfully. If you submit more than once before the deadline, we will only grade your final submission. "
   ]
  },
  {
   "cell_type": "markdown",
   "metadata": {
    "deletable": false,
    "editable": false
   },
   "source": [
    "# Submit\n",
    "Make sure you have run all cells in your notebook in order before running the cell below, so that all images/graphs appear in the output.\n",
    "**Please save before submitting!**\n",
    "\n",
    "<!-- EXPECT 3 EXPORTED QUESTIONS -->"
   ]
  },
  {
   "cell_type": "code",
   "execution_count": null,
   "metadata": {
    "deletable": false,
    "editable": false
   },
   "outputs": [],
   "source": [
    "# Save your notebook first, then run this cell to submit.\n",
    "import jassign.to_pdf\n",
    "jassign.to_pdf.generate_pdf('hw01.ipynb', 'hw01.pdf')\n",
    "ok.submit()"
   ]
  }
 ],
 "metadata": {
  "anaconda-cloud": {},
  "kernelspec": {
   "display_name": "Python 3",
   "language": "python",
   "name": "python3"
  },
  "language_info": {
   "codemirror_mode": {
    "name": "ipython",
    "version": 3
   },
   "file_extension": ".py",
   "mimetype": "text/x-python",
   "name": "python",
   "nbconvert_exporter": "python",
   "pygments_lexer": "ipython3",
   "version": "3.6.7"
  }
 },
 "nbformat": 4,
 "nbformat_minor": 2
}
