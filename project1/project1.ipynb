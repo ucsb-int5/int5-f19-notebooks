{
 "cells": [
  {
   "cell_type": "markdown",
   "metadata": {},
   "source": [
    "# Project 1: Quantified Self\n",
    "\n",
    "### Due: Dec 11, 5PM (together with Project 2).\n",
    "\n",
    "As we discussed during lecture, this part of the project (Project 1) aims to give you a taste of data collection and self-analysis, inspired by the [Quantified Self community](https://quantifiedself.com/show-and-tell/). Additional instructions are posted on the Project 1 page: https://ucsb-int5.github.io/f19/hwk/project1.\n",
    "\n",
    "All code that you submit as part of this project should use the skills that you learned in this class, i.e., we will not accept projects written using Pandas or advanced Python code.\n",
    "\n",
    "The following article provides some helpful guidelines to consider when assembling your notebook. I recommend reading it before you start on the project: [A Data Science Project Style Guide from Dataquest](https://www.dataquest.io/blog/data-science-project-style-guide).\n",
    "\n",
    "Feel free to modify this notebook and add your context and code below."
   ]
  },
  {
   "cell_type": "code",
   "execution_count": null,
   "metadata": {},
   "outputs": [],
   "source": [
    "import numpy as np\n",
    "from datascience import *\n",
    "\n",
    "# These lines set up graphing capabilities.\n",
    "import matplotlib\n",
    "%matplotlib inline\n",
    "import matplotlib.pyplot as plt\n",
    "plt.style.use('fivethirtyeight')\n",
    "import warnings\n",
    "warnings.simplefilter('ignore', FutureWarning)\n",
    "\n",
    "from client.api.notebook import Notebook\n",
    "ok = Notebook('project1.ok')\n",
    "_ = ok.auth(inline=True)"
   ]
  },
  {
   "cell_type": "markdown",
   "metadata": {},
   "source": [
    "# [Insert the title of your project]\n"
   ]
  },
  {
   "cell_type": "markdown",
   "metadata": {},
   "source": [
    "# Introduction\n",
    "\n",
    "Your introduction should explain:\n",
    "\n",
    "*    the motivation for the project,\n",
    "*    a description of the numerical variables you tracked,\n",
    "*    questions that you planned to explore, what relationship do you expect to find and why."
   ]
  },
  {
   "cell_type": "markdown",
   "metadata": {},
   "source": [
    "##  Data Collection\n",
    "\n",
    "\n",
    "* What variables did you measure? (Note that you need at least one *pair* of variables, but you can do more if you wish.)\n",
    "* What was the procedure for your data collection: what are you measuring? How? When / how often? (Write it in a way that someone can take your description and reproduce it in their life.)\n",
    "\n",
    "Explain how you collected the data: upload or link to an Excel/Google spreadsheet, or upload a picture of your tracker if you did it on paper or a screenshot if you collected data on some other website/app.\n",
    "\n",
    "Here's how you can include an image in your notebook:\n",
    "* Upload it into the project folder\n",
    "* Link to it by adapting the code below (if you uploaded a picture called `bujo_tracker.png` into the project folder, then the link would be `<img src=\"bujo_tracker.png\"/>`):\n",
    "\n",
    "<img src=\"https://imgs.xkcd.com/comics/correlation.png\"/>\n",
    "\n",
    "### Recorded values\n",
    "You will need to create a table with your recorded values and include it in the provided Jupyter notebook."
   ]
  },
  {
   "cell_type": "code",
   "execution_count": null,
   "metadata": {},
   "outputs": [],
   "source": [
    "# my_data = Table()  # upload a CSV or enter your values manually"
   ]
  },
  {
   "cell_type": "markdown",
   "metadata": {},
   "source": [
    "## Visualization\n",
    "\n",
    "Plot the variables. Make sure to label the axes!"
   ]
  },
  {
   "cell_type": "markdown",
   "metadata": {},
   "source": [
    "## Analysis\n",
    "\n",
    "Compute the correlation and any other informative quantities that will help in your analysis.\n",
    "\n",
    "Write a short summary explaining what insights the visualization is supposed to provide. Does it look like you expected it would? Why or why not?"
   ]
  },
  {
   "cell_type": "markdown",
   "metadata": {},
   "source": [
    "## Conclusion\n",
    "\n",
    "Summarize the insights from your visualization and analysis. \n",
    "\n",
    "Did the data answer the questions that you planned to explore? Did you find a relationship do you expected to find? Why or why not?\n",
    "\n",
    "What questions are still left unanswered?"
   ]
  },
  {
   "cell_type": "markdown",
   "metadata": {},
   "source": [
    "# Submit your work\n",
    "\n",
    "Periodically save your notebook and submit it to okpy to backup your work.\n",
    "\n",
    "Before you submit your final version, \n",
    "1. Select `Cell -> All Output -> Clear`, then run `Cell -> Run All` to ensure that you have executed all cells and there are no errors.\n",
    "2. `Save and Checkpoint` from the `File` menu. **Remember to save before subitting!**\n",
    "3. Read through the notebook to make sure everything is fine.\n",
    "4. Submit using the cell below."
   ]
  },
  {
   "cell_type": "code",
   "execution_count": null,
   "metadata": {},
   "outputs": [],
   "source": [
    "_ = ok.submit()"
   ]
  }
 ],
 "metadata": {
  "kernelspec": {
   "display_name": "Python 3",
   "language": "python",
   "name": "python3"
  },
  "language_info": {
   "codemirror_mode": {
    "name": "ipython",
    "version": 3
   },
   "file_extension": ".py",
   "mimetype": "text/x-python",
   "name": "python",
   "nbconvert_exporter": "python",
   "pygments_lexer": "ipython3",
   "version": "3.6.7"
  }
 },
 "nbformat": 4,
 "nbformat_minor": 2
}
