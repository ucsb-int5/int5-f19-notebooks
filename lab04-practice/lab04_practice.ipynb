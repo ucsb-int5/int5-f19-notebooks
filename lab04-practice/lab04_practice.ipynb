{
 "cells": [
  {
   "cell_type": "markdown",
   "metadata": {},
   "source": [
    "# Lab 4: Tables Review\n",
    "Welcome to today's lab! This lab will be completely devoted to a review of various table methods. The format will be a little different too: We will work together through the notebook while I demonstrate how to use those methods. \n",
    "We will be working with [a dataset on cereals](https://www.kaggle.com/crawford/80-cereals), which includes information such as their nutritional values. Let's get started!\n",
    "\n",
    "First, let's run the cell below to import the modules we need."
   ]
  },
  {
   "cell_type": "code",
   "execution_count": null,
   "metadata": {},
   "outputs": [],
   "source": [
    "# Don't change this cell; just run it. \n",
    "# The result will give you directions about how to log in to the submission system, called OK.\n",
    "# Once you're logged in, you can run this cell again, but it won't ask you who you are because\n",
    "# it remembers you. However, you will need to log in once per assignment.\n",
    "from client.api.notebook import Notebook\n",
    "ok = Notebook('lab04_practice.ok')\n",
    "_ = ok.auth(inline=True)\n",
    "_ = ok.submit()"
   ]
  },
  {
   "cell_type": "markdown",
   "metadata": {},
   "source": [
    "## Creating a table and importing the dataset\n",
    "The first step is to create a table to import the dataset. How do we create a table? There are several ways. Let's first review how to create an empty table.\n",
    "\n",
    "The method we will be using is `Table()`."
   ]
  },
  {
   "cell_type": "code",
   "execution_count": null,
   "metadata": {},
   "outputs": [],
   "source": [
    "# Create an empty table, and assign the table to the variable empty_table\n",
    "..."
   ]
  },
  {
   "cell_type": "markdown",
   "metadata": {},
   "source": [
    "Next, let's review how to create a table by providing values in each column. Say we have the following two different cereals.\n",
    "\n",
    "| name         | type | calories | protein | fat | sodium | fiber | carbo | sugars | weight | cups |\n",
    "|--------------|------|----------|---------|-----|--------|-------|-------|--------|--------|------|\n",
    "| Lucky Charms | C    | 110      | 2       | 1   | 180    | 0.0   | 12.0  | 12     | 1.0    | 1.0  |\n",
    "| Maypo        | H    | 100      | 4       | 1   | 0      | 0.0   | 16.0  | 3      | 1.0    | 1.0  |\n",
    "\n",
    "(We will get to what each column means in a minute.)\n",
    "\n",
    "The method we will be using is `Table().with_columns(c1, v1, c2, v2, ...)`. Before proceeding, think about what goes into the second pair of parentheses. \n",
    "* What is happening in this line of code with the dot there? \n",
    "* What is the difference between the aforementioned method and the method `Table().with_column(c, v)`?\n",
    "* What do `c1, c2, ...` represent? What do `v1, v2, ...` represent?"
   ]
  },
  {
   "cell_type": "code",
   "execution_count": null,
   "metadata": {},
   "outputs": [],
   "source": [
    "# Create a table with the data provided above, and assign the table \n",
    "# to the variable called two_cereals.\n",
    "..."
   ]
  },
  {
   "cell_type": "markdown",
   "metadata": {},
   "source": [
    "How many different data types are you seeing in this table's values? Let's write some code and check in the cell below."
   ]
  },
  {
   "cell_type": "code",
   "execution_count": null,
   "metadata": {},
   "outputs": [],
   "source": [
    "# Try to chain up the code as much as possible so that they are \n",
    "# in one single line. Let's understand what the code means.\n",
    "..."
   ]
  },
  {
   "cell_type": "markdown",
   "metadata": {},
   "source": [
    "## Create a table from a CSV file"
   ]
  },
  {
   "cell_type": "markdown",
   "metadata": {},
   "source": [
    "Lastly, let's create a table with contents from a csv file. The method we will be using is `Table.read_table(the_path_to_the_file)`. \n",
    "\n",
    "What is `the_path_to_the_file`? Basically, you are telling Python where to find the csv file. By default, Python will start with the folder where your notebook is. Here is a [link to the folder of your notebook](./). We simply want to use the file called `40_cereals.csv`, which is under the same folder of your notebook. In this case, the path to the file coincides with the name of the file."
   ]
  },
  {
   "cell_type": "code",
   "execution_count": null,
   "metadata": {},
   "outputs": [],
   "source": [
    "# Create a table with the data from 40_cereals.csv. \n",
    "# Assign the table to the variable called forty_cereals.\n",
    "..."
   ]
  },
  {
   "cell_type": "markdown",
   "metadata": {},
   "source": [
    "Now let's take another look at the [folder](./). Note that there is a folder called `other_data`, and under it there is a csv file called `remaining_cereals.csv`. We now want to use this csv file. So we need to tell Python to first look for a folder called `other_data`, and then get `remaining_cereals.csv` for us. To do this, we need to tell Python that the path to the file is `other_data/remaining_cereals.csv`."
   ]
  },
  {
   "cell_type": "code",
   "execution_count": null,
   "metadata": {},
   "outputs": [],
   "source": [
    "# Create a table with the data from remaining_cereals.csv.\n",
    "# assign the table to the variable called remaining_cereals.\n",
    "..."
   ]
  },
  {
   "cell_type": "markdown",
   "metadata": {},
   "source": [
    "## Understanding the dataset\n",
    "Let's quickly go over what each column means.\n",
    "1. `name`: name of cereal\n",
    "2. `type`: 'C' for cold, 'H' for hot\n",
    "3. `calories`: calories per serving\n",
    "4. `protein`: grams of protein per serving\n",
    "5. `fat`: grams of fat per serving\n",
    "6. `sodium`: milligrams of sodium per serving\n",
    "7. `fiber`: grams of dietary fiber per serving\n",
    "8. `carbo`: grams of complex carbohydrates per serving\n",
    "9. `sugars`: grams of sugars per serving\n",
    "10. `weight`: weight in ounces of one serving\n",
    "11. `cups`: number of cups in one serving"
   ]
  },
  {
   "cell_type": "markdown",
   "metadata": {},
   "source": [
    "## Getting basic attributes of a table"
   ]
  },
  {
   "cell_type": "markdown",
   "metadata": {},
   "source": [
    "Note that when we are getting attributes from a table, the syntax is different than using methods. Attributes don't have parentheses `()` following them; in contrast, methods always have parentheses following them. Just think about this syntactical difference as a way for Python to differentiate two different things. Let's practice using them."
   ]
  },
  {
   "cell_type": "markdown",
   "metadata": {},
   "source": [
    "Get the number of rows in `forty_cereals`, and assign the value to a variable called `num_cereals`."
   ]
  },
  {
   "cell_type": "code",
   "execution_count": null,
   "metadata": {},
   "outputs": [],
   "source": [
    "..."
   ]
  },
  {
   "cell_type": "markdown",
   "metadata": {},
   "source": [
    "Get the number of columns in `forty_cereals`, and assign the value to a variable called `num_facts_per_cereal`."
   ]
  },
  {
   "cell_type": "code",
   "execution_count": null,
   "metadata": {},
   "outputs": [],
   "source": [
    "..."
   ]
  },
  {
   "cell_type": "markdown",
   "metadata": {},
   "source": [
    "Get the names of the columns in `forty_cereals`, and assign the value to a variable called `column_names`."
   ]
  },
  {
   "cell_type": "code",
   "execution_count": null,
   "metadata": {},
   "outputs": [],
   "source": [
    "..."
   ]
  },
  {
   "cell_type": "markdown",
   "metadata": {},
   "source": [
    "Now let's get into methods!"
   ]
  },
  {
   "cell_type": "markdown",
   "metadata": {},
   "source": [
    "## Methods related to columns\n",
    "\n",
    "### `select` versus `column`\n",
    "\n",
    "First, let's talk about how to get columns out of a table. We have seen two methods that could do this. They are\n",
    "1. `tbl.column(column_name_or_index)`, and\n",
    "2. `tbl.select(col1, col2, ...)`.\n",
    "\n",
    "Note that\n",
    "* `tbl.column(column_name_or_index)` always returns **an array**. \n",
    "* `tbl.select(col1, col2, ...` always returns **a table**. \n",
    "\n",
    "The reason we have those two different methods is that sometimes we want to analyze data using array methods and sometimes we want to analyze the data using table methods.\n",
    "\n",
    "(**Note**: `tbl` above represents a variable that's associated with a certain table: you would need to substitude the name of your specific table.)"
   ]
  },
  {
   "cell_type": "code",
   "execution_count": null,
   "metadata": {},
   "outputs": [],
   "source": [
    "# Calculate the average calories per serving in forty_cereals.\n",
    "# Try with the name of the column and the index of the column. \n",
    "# (What is the index of the first column?)\n",
    "..."
   ]
  },
  {
   "cell_type": "markdown",
   "metadata": {},
   "source": [
    "In this analysis, getting the column as _an array_ is much more useful, because don't really have any _table_ methods that can calculate an average."
   ]
  },
  {
   "cell_type": "code",
   "execution_count": null,
   "metadata": {},
   "outputs": [],
   "source": [
    "# Get the name column and the calories column in forty_cereals \n",
    "# as a new table, and assign it to a variable called name_and_calories.\n",
    "# Try with the names of the columns and the indices of the columns.\n",
    "..."
   ]
  },
  {
   "cell_type": "markdown",
   "metadata": {},
   "source": [
    "## `sort`ing tables\n",
    "\n",
    "Let's sort the table by calories in ascending order."
   ]
  },
  {
   "cell_type": "code",
   "execution_count": null,
   "metadata": {},
   "outputs": [],
   "source": [
    "..."
   ]
  },
  {
   "cell_type": "markdown",
   "metadata": {},
   "source": [
    "Here, if we are trying to find the cereal with the lowest calories per serving, we would want to analyze the data with a table _as a whole_, instead of an array of specific values. If we only sort the array of calories, the cereal names associated with it are lost, and we won't have any way of knowing which cereal has the lowest calories per serving.\n",
    "\n",
    "**Again, `tbl.column(column_name_or_index)` always returns an array, while `tbl.select(col1, col2, ...)` always returns a table.**"
   ]
  },
  {
   "cell_type": "markdown",
   "metadata": {},
   "source": [
    "## `drop`ing columns\n",
    "\n",
    "Next, let's try to remove columns from the table.\n",
    "\n",
    "Remove the column \"Type\" from the table, and assign the resulting table to a variable called `forty_cereals_without_type`."
   ]
  },
  {
   "cell_type": "code",
   "execution_count": null,
   "metadata": {},
   "outputs": [],
   "source": [
    "..."
   ]
  },
  {
   "cell_type": "markdown",
   "metadata": {},
   "source": [
    "`tbl.drop(col1, col2, ...)` can be used to drop multiple columns, and you can pass in either names or indicies of columns in the parentheses (as arguments). \n",
    "\n",
    "Note that this method **does not modify the original table**. It merely returns a copy of the modified table. Check this fact by typing in `forty_cereals` below and see that the column we just dropped is still there.\n",
    "\n",
    "**All the table methods you have seen so far in this course do not modify the original table; instead, they return a modified copy of the table.**"
   ]
  },
  {
   "cell_type": "code",
   "execution_count": null,
   "metadata": {},
   "outputs": [],
   "source": [
    "forty_cereals"
   ]
  },
  {
   "cell_type": "markdown",
   "metadata": {},
   "source": [
    "## Adding new columns\n",
    "\n",
    "Lastly, let's try to add new columns into the table. Suppose we want to know how much calories per cup there are in each type of cereal. What should we do?\n",
    "\n",
    "1. How should we calculate this quantity? \n",
    "\n",
    "Note that 'calories' tells us how many calories in each serving and 'cups' tells us how many cups in each serving. If we simply divide the values in 'calories' by the values in 'cups', we will have the answer!\n",
    "\n",
    "2. During this calculation, should we use the columns as arrays or tables?\n",
    "\n",
    "We should use arrays. We know that we can achieve the calculation above by dividing one array by the other. However, we don't have any table methods that can easily achieve this.\n",
    "\n",
    "3. How do we add the result to the table as a new column, once we have the resulting array?\n",
    "\n",
    "Use `tbl.with_column(c1, v1)`!\n",
    "\n",
    "Let's now proceed in the cell below."
   ]
  },
  {
   "cell_type": "code",
   "execution_count": null,
   "metadata": {},
   "outputs": [],
   "source": [
    "# Calculate calories per cup for each cereal,\n",
    "# add a column called 'calories_per_cup' to forty_cereals, \n",
    "# and assign the new table to a variable called forty_cereals_w_cpc.\n",
    "..."
   ]
  },
  {
   "cell_type": "markdown",
   "metadata": {},
   "source": [
    "## The sort method"
   ]
  },
  {
   "cell_type": "code",
   "execution_count": null,
   "metadata": {
    "scrolled": true
   },
   "outputs": [],
   "source": [
    "# Sort forty_cereals by fiber, using descending order\n",
    "..."
   ]
  },
  {
   "cell_type": "code",
   "execution_count": null,
   "metadata": {},
   "outputs": [],
   "source": [
    "# Sort forty_cereals_w_cpc by calories_per_cup, using ascending order\n",
    "..."
   ]
  },
  {
   "cell_type": "markdown",
   "metadata": {},
   "source": [
    "## Method related to rows\n",
    "\n",
    "First, we discuss how to select rows from a table. The first method, `tbl.take(row_indices)`, takes in an array of indices and returns _a copy of the table_ with the specified rows."
   ]
  },
  {
   "cell_type": "code",
   "execution_count": null,
   "metadata": {},
   "outputs": [],
   "source": [
    "# What are the first 10 cereals ranking highest in fiber per serving?\n",
    "# Let's write one line of code that returns an array.\n",
    "..."
   ]
  },
  {
   "cell_type": "code",
   "execution_count": null,
   "metadata": {},
   "outputs": [],
   "source": [
    "# When ranking by calories per cup, \n",
    "# what are the cereals ranking 3rd place to 6th place?\n",
    "# Let's write one line of code that returns an array.\n",
    "..."
   ]
  },
  {
   "cell_type": "markdown",
   "metadata": {},
   "source": [
    "The second method, `tbl.where(column_name, predicate)` returns a table with rows for which the specified column satisfies some condition, also known as a _predicate_. Some predicates you might need are summarized in the following table.\n",
    "\n",
    "|Predicate|Example|Result|\n",
    "|-|-|-|\n",
    "|`are.equal_to`|`are.equal_to(50)`|Find rows with values equal to 50|\n",
    "|`are.not_equal_to`|`are.not_equal_to(50)`|Find rows with values not equal to 50|\n",
    "|`are.above`|`are.above(50)`|Find rows with values above (and not equal to) 50|\n",
    "|`are.above_or_equal_to`|`are.above_or_equal_to(50)`|Find rows with values above 50 or equal to 50|\n",
    "|`are.below`|`are.below(50)`|Find rows with values below 50|\n",
    "|`are.between`|`are.between(2, 10)`|Find rows with values above or equal to 2 and below 10|"
   ]
  },
  {
   "cell_type": "code",
   "execution_count": null,
   "metadata": {},
   "outputs": [],
   "source": [
    "# Get all the cereals that are below 135 calories per cup.\n",
    "..."
   ]
  },
  {
   "cell_type": "markdown",
   "metadata": {},
   "source": [
    "Let's get top 5 cereals highest in fiber per serving in the set of cereals that are below 135 calories per cup. Try to write only one line that returns a table, with only name, fiber and calories_per_cup. If you have difficulties doing this, first split it into several lines, and then combine them into one line."
   ]
  },
  {
   "cell_type": "code",
   "execution_count": null,
   "metadata": {},
   "outputs": [],
   "source": [
    "..."
   ]
  },
  {
   "cell_type": "markdown",
   "metadata": {},
   "source": [
    "We can also add rows to an existing table. Below is the information of two new cereals.\n",
    "\n",
    "| name         | type | calories | protein | fat | sodium | fiber | carbo | sugars | weight | cups |\n",
    "|--------------|------|----------|---------|-----|--------|-------|-------|--------|--------|------|\n",
    "| Lucky Charms | C    | 110      | 2       | 1   | 180    | 0.0   | 12.0  | 12     | 1.0    | 1.0  |\n",
    "| Maypo        | H    | 100      | 4       | 1   | 0      | 0.0   | 16.0  | 3      | 1.0    | 1.0  |\n",
    "\n"
   ]
  },
  {
   "cell_type": "code",
   "execution_count": null,
   "metadata": {},
   "outputs": [],
   "source": [
    "# Add only Lucky Charms into forty_cereals using tbl.with_row(...), \n",
    "# and assign the new table to a variable called forty_one_cereal.\n",
    "..."
   ]
  },
  {
   "cell_type": "code",
   "execution_count": null,
   "metadata": {},
   "outputs": [],
   "source": [
    "# Now check that the total number of kinds of cereals are indeed 41.\n",
    "..."
   ]
  },
  {
   "cell_type": "markdown",
   "metadata": {},
   "source": [
    "Note that we are using a list instead of an array in the method. This ensures that the data types are unchanged from how we typed them in. If we were to use an array, Python could do some work for us (which we don't necessarily want) to change ('cast') those different data types to strings."
   ]
  },
  {
   "cell_type": "code",
   "execution_count": null,
   "metadata": {},
   "outputs": [],
   "source": [
    "['Lucky Charms', 'C', 110, 2, 1, 180, 0.0, 12.0, 12, 1.0, 1.0]"
   ]
  },
  {
   "cell_type": "code",
   "execution_count": null,
   "metadata": {},
   "outputs": [],
   "source": [
    "a_str_array = make_array('Lucky Charms', 'C', 110, 2, 1, 180, 0.0, 12.0, 12, 1.0, 1.0)\n",
    "print(a_str_array)\n",
    "type(a_str_array.item(6))"
   ]
  },
  {
   "cell_type": "code",
   "execution_count": null,
   "metadata": {},
   "outputs": [],
   "source": [
    "# Add two cereals using tbl.with_rows(...)\n",
    "# assign the new table to a variable called forty_two_cereals.\n",
    "# Then check the total number of kinds of cereals are indeed 42.\n",
    "..."
   ]
  },
  {
   "cell_type": "markdown",
   "metadata": {},
   "source": [
    "Compare `tbl.with_row(...)` and `tbl.with_rows(...)` carefully. Note that inside the parentheses of `tbl.with_rows(...)` we have **a list of lists**, because essentially we passing in **a list of items who are represented as lists**. In other words, \n",
    "* `tbl.with_rows([item1, item2, ...])`, where `item1`, `item2`, ... are lists themselves. \n",
    "* `tbl.with_row(item)`, where `item` is a list. `tbl.with_row(...)` only accepts a single list, which is a representation of an item. "
   ]
  },
  {
   "cell_type": "markdown",
   "metadata": {},
   "source": [
    "# Visualizing Data\n"
   ]
  },
  {
   "cell_type": "code",
   "execution_count": null,
   "metadata": {},
   "outputs": [],
   "source": [
    "import matplotlib\n",
    "matplotlib.use('Agg', warn=False)\n",
    "%matplotlib inline\n",
    "import matplotlib.pyplot as plots\n",
    "plots.style.use('fivethirtyeight')"
   ]
  },
  {
   "cell_type": "markdown",
   "metadata": {},
   "source": [
    "In the following cells, try to uncover any interesting relationships by plotting a scatterplot between two different columns. The method `.scatter()` takes in **two string arguements** which corresponds to the name of the columns in the table ` forty_two_cereal`.\n",
    "\n",
    "Try looking at the relationship between \"carbo\" and \"sugars\"."
   ]
  },
  {
   "cell_type": "code",
   "execution_count": null,
   "metadata": {},
   "outputs": [],
   "source": [
    "forty_two_cereals.scatter(,)"
   ]
  },
  {
   "cell_type": "markdown",
   "metadata": {},
   "source": [
    "## Submit your notebook"
   ]
  },
  {
   "cell_type": "code",
   "execution_count": null,
   "metadata": {},
   "outputs": [],
   "source": [
    "_ = ok.submit()"
   ]
  }
 ],
 "metadata": {
  "kernelspec": {
   "display_name": "Python 3",
   "language": "python",
   "name": "python3"
  },
  "language_info": {
   "codemirror_mode": {
    "name": "ipython",
    "version": 3
   },
   "file_extension": ".py",
   "mimetype": "text/x-python",
   "name": "python",
   "nbconvert_exporter": "python",
   "pygments_lexer": "ipython3",
   "version": "3.6.7"
  }
 },
 "nbformat": 4,
 "nbformat_minor": 2
}
