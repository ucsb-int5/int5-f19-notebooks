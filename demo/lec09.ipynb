{
 "cells": [
  {
   "cell_type": "code",
   "execution_count": 88,
   "metadata": {},
   "outputs": [],
   "source": [
    "import numpy as np\n",
    "from datascience import *\n",
    "\n",
    "# These lines set up graphing capabilities.\n",
    "import matplotlib\n",
    "%matplotlib inline\n",
    "import matplotlib.pyplot as plt\n",
    "plt.style.use('fivethirtyeight')\n",
    "import warnings\n",
    "warnings.simplefilter('ignore', FutureWarning)"
   ]
  },
  {
   "cell_type": "markdown",
   "metadata": {},
   "source": [
    "# Tables, Functions, and Histograms"
   ]
  },
  {
   "cell_type": "code",
   "execution_count": 89,
   "metadata": {},
   "outputs": [
    {
     "data": {
      "text/html": [
       "<table border=\"1\" class=\"dataframe\">\n",
       "    <thead>\n",
       "        <tr>\n",
       "            <th>Rank</th> <th>Genre</th> <th>Movies</th> <th>Total Box Office</th> <th>Tickets</th> <th>Share</th>\n",
       "        </tr>\n",
       "    </thead>\n",
       "    <tbody>\n",
       "        <tr>\n",
       "            <td>1   </td> <td>Adventure        </td> <td>1,046 </td> <td>$62,341,563,114 </td> <td>8,975,800,305</td> <td>27.06%</td>\n",
       "        </tr>\n",
       "        <tr>\n",
       "            <td>2   </td> <td>Action           </td> <td>1,000 </td> <td>$47,141,096,027 </td> <td>6,698,859,122</td> <td>20.46%</td>\n",
       "        </tr>\n",
       "        <tr>\n",
       "            <td>3   </td> <td>Drama            </td> <td>5,215 </td> <td>$36,575,431,077 </td> <td>5,637,016,666</td> <td>15.88%</td>\n",
       "        </tr>\n",
       "        <tr>\n",
       "            <td>4   </td> <td>Comedy           </td> <td>2,295 </td> <td>$33,866,371,153 </td> <td>5,221,841,711</td> <td>14.70%</td>\n",
       "        </tr>\n",
       "        <tr>\n",
       "            <td>5   </td> <td>Thriller/Suspense</td> <td>1,070 </td> <td>$19,248,881,405 </td> <td>2,818,530,793</td> <td>8.36% </td>\n",
       "        </tr>\n",
       "        <tr>\n",
       "            <td>6   </td> <td>Horror           </td> <td>587   </td> <td>$11,655,307,708 </td> <td>1,687,812,050</td> <td>5.06% </td>\n",
       "        </tr>\n",
       "    </tbody>\n",
       "</table>\n",
       "<p>... (8 rows omitted)</p>"
      ],
      "text/plain": [
       "<IPython.core.display.HTML object>"
      ]
     },
     "metadata": {},
     "output_type": "display_data"
    }
   ],
   "source": [
    "all_genre = Table().read_table('market-share-genre.csv')\n",
    "all_genre.show(6)"
   ]
  },
  {
   "cell_type": "code",
   "execution_count": 90,
   "metadata": {},
   "outputs": [
    {
     "data": {
      "text/html": [
       "<table border=\"1\" class=\"dataframe\">\n",
       "    <thead>\n",
       "        <tr>\n",
       "            <th>Total Box Office</th>\n",
       "        </tr>\n",
       "    </thead>\n",
       "    <tbody>\n",
       "        <tr>\n",
       "            <td>$62,341,563,114 </td>\n",
       "        </tr>\n",
       "    </tbody>\n",
       "</table>"
      ],
      "text/plain": [
       "Total Box Office\n",
       "$62,341,563,114"
      ]
     },
     "execution_count": 90,
     "metadata": {},
     "output_type": "execute_result"
    }
   ],
   "source": [
    "all_genre.take(0).select(\"Total Box Office\")"
   ]
  },
  {
   "cell_type": "code",
   "execution_count": 92,
   "metadata": {},
   "outputs": [],
   "source": [
    "def convert_price_to_num( price ):\n",
    "    str_tmp = price.strip(\"$\").replace(',', '')\n",
    "    return float(str_tmp)"
   ]
  },
  {
   "cell_type": "code",
   "execution_count": 93,
   "metadata": {},
   "outputs": [
    {
     "data": {
      "text/plain": [
       "62341563114.0"
      ]
     },
     "execution_count": 93,
     "metadata": {},
     "output_type": "execute_result"
    }
   ],
   "source": [
    "convert_price_to_num(\"$62,341,563,114\")"
   ]
  },
  {
   "cell_type": "code",
   "execution_count": 96,
   "metadata": {},
   "outputs": [],
   "source": [
    "def convert_price_to_num( price ):\n",
    "    price_str = price.strip('$').replace(',','') \n",
    "    return float(price_str)"
   ]
  },
  {
   "cell_type": "code",
   "execution_count": 97,
   "metadata": {},
   "outputs": [
    {
     "data": {
      "text/plain": [
       "float"
      ]
     },
     "execution_count": 97,
     "metadata": {},
     "output_type": "execute_result"
    }
   ],
   "source": [
    "result = convert_price_to_num(\"$62,341,563,114\")\n",
    "type(result)"
   ]
  },
  {
   "cell_type": "code",
   "execution_count": null,
   "metadata": {},
   "outputs": [],
   "source": [
    "result = convert_price_to_num(\"$62,341,563,114\")\n",
    "result"
   ]
  },
  {
   "cell_type": "code",
   "execution_count": null,
   "metadata": {},
   "outputs": [],
   "source": [
    "1e6"
   ]
  },
  {
   "cell_type": "code",
   "execution_count": null,
   "metadata": {},
   "outputs": [],
   "source": [
    "def convert_to_bil( num ):\n",
    "    return num / 1e8"
   ]
  },
  {
   "cell_type": "code",
   "execution_count": null,
   "metadata": {},
   "outputs": [],
   "source": [
    "result = convert_to_bil(result)\n",
    "result"
   ]
  },
  {
   "cell_type": "code",
   "execution_count": null,
   "metadata": {},
   "outputs": [],
   "source": [
    "def convert_price_to_bil( price ):\n",
    "    price_str = price.strip('$').replace(',','') \n",
    "    return round( float(price_str) / 1e8, 2)"
   ]
  },
  {
   "cell_type": "code",
   "execution_count": null,
   "metadata": {},
   "outputs": [],
   "source": [
    "new_price = all_genre.apply(convert_price_to_bil, \"Total Box Office\")"
   ]
  },
  {
   "cell_type": "code",
   "execution_count": null,
   "metadata": {},
   "outputs": [],
   "source": [
    "with_price = all_genre.with_column(\"Total\", new_price)\n",
    "with_price.show()"
   ]
  },
  {
   "cell_type": "code",
   "execution_count": null,
   "metadata": {},
   "outputs": [],
   "source": [
    "with_price.hist(\"Total\", unit=\"Billion Dollars\")"
   ]
  },
  {
   "cell_type": "code",
   "execution_count": null,
   "metadata": {},
   "outputs": [],
   "source": [
    "with_price.hist(\"Total\", bins=np.arange(0, 700, 100))"
   ]
  },
  {
   "cell_type": "code",
   "execution_count": null,
   "metadata": {
    "scrolled": true
   },
   "outputs": [],
   "source": [
    "with_price.where(\"Total\", are.below(100)) #.num_rows"
   ]
  },
  {
   "cell_type": "code",
   "execution_count": null,
   "metadata": {},
   "outputs": [],
   "source": [
    "with_price.bin(\"Total\", bins=np.arange(0, 700, 100))"
   ]
  },
  {
   "cell_type": "code",
   "execution_count": null,
   "metadata": {},
   "outputs": [],
   "source": [
    "with_price.num_rows"
   ]
  },
  {
   "cell_type": "code",
   "execution_count": null,
   "metadata": {},
   "outputs": [],
   "source": [
    "8/14"
   ]
  },
  {
   "cell_type": "code",
   "execution_count": null,
   "metadata": {},
   "outputs": [],
   "source": [
    "tickets = with_price.apply(convert_price_to_num, \"Tickets\")"
   ]
  },
  {
   "cell_type": "code",
   "execution_count": null,
   "metadata": {},
   "outputs": [],
   "source": [
    "with_price = with_price.with_columns(\"Ticket num\", tickets)"
   ]
  },
  {
   "cell_type": "code",
   "execution_count": null,
   "metadata": {},
   "outputs": [],
   "source": [
    "def price_per_item( num, total ):\n",
    "    return num / total"
   ]
  },
  {
   "cell_type": "code",
   "execution_count": null,
   "metadata": {},
   "outputs": [],
   "source": [
    "with_price.with_columns(\n",
    "    \"Price per ticket\", 1e8*with_price.apply(price_per_item, \"Total\", \"Ticket num\")\n",
    ")"
   ]
  },
  {
   "cell_type": "code",
   "execution_count": 84,
   "metadata": {},
   "outputs": [
    {
     "data": {
      "text/html": [
       "<table border=\"1\" class=\"dataframe\">\n",
       "    <thead>\n",
       "        <tr>\n",
       "            <th>Year</th> <th>Total movies</th> <th>Average\r",
       "Production\r",
       "Budget</th> <th>Combined\r",
       "Worldwide\r",
       "Box Office</th> <th>No. 1 Movie</th>\n",
       "        </tr>\n",
       "    </thead>\n",
       "    <tbody>\n",
       "        <tr>\n",
       "            <td>2019</td> <td> 234        </td> <td> $20,975,000             </td> <td> $1,410,934,941              </td> <td> It: Chapter Two                         </td>\n",
       "        </tr>\n",
       "        <tr>\n",
       "            <td>2018</td> <td> 257        </td> <td> $11,326,316             </td> <td> $1,911,880,577              </td> <td> The Nun                                 </td>\n",
       "        </tr>\n",
       "        <tr>\n",
       "            <td>2017</td> <td> 200        </td> <td> $19,909,091             </td> <td> $2,335,802,255              </td> <td> It                                      </td>\n",
       "        </tr>\n",
       "        <tr>\n",
       "            <td>2016</td> <td> 180        </td> <td> $7,871,053              </td> <td> $1,200,924,327              </td> <td> The Conjuring 2: The Enfield Poltergeist</td>\n",
       "        </tr>\n",
       "        <tr>\n",
       "            <td>2015</td> <td> 206        </td> <td> $7,334,213              </td> <td> $925,231,510                </td> <td> Goosebumps                              </td>\n",
       "        </tr>\n",
       "        <tr>\n",
       "            <td>2014</td> <td> 101        </td> <td> $7,728,571              </td> <td> $760,893,609                </td> <td> Annabelle                               </td>\n",
       "        </tr>\n",
       "    </tbody>\n",
       "</table>\n",
       "<p>... (41 rows omitted)</p>"
      ],
      "text/plain": [
       "<IPython.core.display.HTML object>"
      ]
     },
     "metadata": {},
     "output_type": "display_data"
    }
   ],
   "source": [
    "all_genre = Table().read_table('horror.csv')\n",
    "all_genre.show(6)"
   ]
  },
  {
   "cell_type": "code",
   "execution_count": null,
   "metadata": {},
   "outputs": [],
   "source": []
  }
 ],
 "metadata": {
  "kernelspec": {
   "display_name": "Python 3",
   "language": "python",
   "name": "python3"
  },
  "language_info": {
   "codemirror_mode": {
    "name": "ipython",
    "version": 3
   },
   "file_extension": ".py",
   "mimetype": "text/x-python",
   "name": "python",
   "nbconvert_exporter": "python",
   "pygments_lexer": "ipython3",
   "version": "3.6.7"
  }
 },
 "nbformat": 4,
 "nbformat_minor": 2
}
