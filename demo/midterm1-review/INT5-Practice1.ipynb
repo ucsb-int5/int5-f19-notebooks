{
 "cells": [
  {
   "cell_type": "markdown",
   "metadata": {},
   "source": [
    "<font size=\"10\">Review for INT 5 Midterm 1</font>\n",
    "\n",
    "<br>\n",
    "\n",
    "<font size=\"5\">Coding Review</font>\n",
    "\n",
    "<br>\n",
    "\n",
    "<font size=\"3\">\n",
    "    It has come to our attention that many of you wish to further practice the skills that were obtained in lecture\n",
    "    and labs. This notebook will have various practice problems that utilizes the functions and concepts learned in\n",
    "    INT 5. This will be a hands on notebook. Attempt a problem first before looking at the solutions. The midterm\n",
    "    will primarily focus on concepts. However, it is in your best interest to attempt the coding questions to help\n",
    "    solidify concepts. You should attempt the problems with the formula sheet that was provided during lecture. \n",
    "</font>"
   ]
  },
  {
   "cell_type": "markdown",
   "metadata": {},
   "source": [
    "<font size=\"5\" color=\"Red\"> Importing functions: Don't Reinvent the Wheel </font>\n",
    "\n",
    "<br>\n",
    "\n",
    "<font size=\"3\">\n",
    "    In data science, it is effective and efficient to utilize modules. Modules are code that other programmers\n",
    "    have already written. It is usually easier to import the code of other programmers rather than coding it\n",
    "    yourself. Coding stuff that has already been coded can very tidous and waste a lot of time.\n",
    "    <br><br>\n",
    "    For example, if we wanted to calculate an average, we would need to code $\\mu= \\frac{\\sum x_i}{n}$ (Don't worry\n",
    "    about this formula). Instead of coding the average formula by ourselves, we can import a package that already has\n",
    "    the code to calculate average. We can import numpy and use np.average() to calcualte the average. \n",
    "    <br><br>\n",
    "    For this course, you dont't have to worry about knowing which modules to use. We will tell you the name of the\n",
    "    module to import. Any function, methods, and atributes that are needed for this course can found in the formula\n",
    "    sheet.\n",
    "    <br><br>\n",
    "    In the following cell, import the modules datascience and numpy. To make it easier to work with numpy, import\n",
    "    numpy and name it np and import everything in datasciece.\n",
    "</font>"
   ]
  },
  {
   "cell_type": "markdown",
   "metadata": {},
   "source": [
    "Double-click __here__ for a hint 1\n",
    "<!-- \n",
    "Refer to Lab 2, section 3 or the start of lab 3.\n",
    "-->"
   ]
  },
  {
   "cell_type": "code",
   "execution_count": null,
   "metadata": {},
   "outputs": [],
   "source": [
    "# Import modules here"
   ]
  },
  {
   "cell_type": "markdown",
   "metadata": {},
   "source": [
    "Double-click __here__ for the solution.\n",
    "<!-- \n",
    "from datascience import *\n",
    "import numpy as np\n",
    "-->"
   ]
  },
  {
   "cell_type": "markdown",
   "metadata": {},
   "source": [
    "<font size=\"5\" color='green'>Tables: Creating New Tables </font>\n",
    "\n",
    "<br>\n",
    "\n",
    "<font size='3'>\n",
    "    Tables are a powerful tool that allows us to analyze data. A table is made up of various rows and columns. Every\n",
    "    column will have a certain datatype ie. float, int, string, etc. and every row may be composed of\n",
    "    different data types. In other words, every column is made up from an array and every row is made up from a list.\n",
    "    <br><br>\n",
    "    We are interested in identifying the various majors and programming experience in INT 5. We randomly \n",
    "    asked 8 students what their major is and whether or not they have programmed in python before INT 5 (1 for yes\n",
    "    and 0 for no). We obtained the following results:\n",
    "    <br><br>\n",
    "    student1 compsci 1\n",
    "    <br>\n",
    "    student2 stats 0\n",
    "    <br>\n",
    "    student3 math 0\n",
    "    <br>\n",
    "    student4 bio 0\n",
    "    <br>\n",
    "    student5 comm 1\n",
    "    <br>\n",
    "    student6 anthro 0\n",
    "    <br> \n",
    "    student7 comm 0\n",
    "    <br> \n",
    "    student8 chem 0\n",
    "</font>   \n",
    "    \n",
    "Create a new table using the information that was gathered. Name the respective columns `students`,`majors`, and `experience`. Save the table to a variable named `int5majors` and display the table"
   ]
  },
  {
   "cell_type": "markdown",
   "metadata": {},
   "source": [
    "Double-click __here__ for hint 1\n",
    "<!-- \n",
    "We are trying to create the table above using code\n",
    "Refer to Lab 3, section 2 or Lecture 6,7\n",
    "-->"
   ]
  },
  {
   "cell_type": "markdown",
   "metadata": {},
   "source": [
    "Double-click __here__ for hint2\n",
    "<!--\n",
    "Look at the syntax Table.with_columns()\n",
    "We need to create an array for the values for each of our columns\n",
    "In this question, our table has three columns\n",
    "-->"
   ]
  },
  {
   "cell_type": "markdown",
   "metadata": {},
   "source": [
    "Double-click __here__ for hint3\n",
    "<!--\n",
    "Rememer, an array is container that has all the same datatype \n",
    "The students column is an array of strings \n",
    "The majors column is an array of strings\n",
    "The experience column is an array of ints\n",
    "-->"
   ]
  },
  {
   "cell_type": "code",
   "execution_count": null,
   "metadata": {},
   "outputs": [],
   "source": [
    "# Write your code here"
   ]
  },
  {
   "cell_type": "markdown",
   "metadata": {},
   "source": [
    "Double-click __here__ for the Solution\n",
    "<!--\n",
    "Note: We didnt specify what to name your variables for the array, you could have used any variable name\n",
    "However, its best to name the varaibles something related to what is being stored in them\n",
    "------------------------------------------------------------------------------------------------------------\n",
    "students = make_array('student1','student2','student4','student4','student5', 'student6','student7','student8')\n",
    "majors = make_array(\"compsci\",\"stats\",\"math\",\"bio\",\"comm\",\"anthro\",\"comm\",\"chem\")\n",
    "exp = make_array(1,0,0,0,1,0,0,0)\n",
    "int5majors = Table().with_columns(\"students\", students,\n",
    "                                 'majors', majors,\n",
    "                                 'experience',exp)\n",
    "int5majors\n",
    "-------------------------------------------------------------------------------------------------------------\n",
    "However, the following works too. Notice, the first solution is easier to read.\n",
    "int5majors = Table().with_columns(\"student\", make_array('student1','student2','student4','student4','student5', 'student6','student7','student8'),\n",
    "                           'majors', make_array(\"compsci\",\"stats\",\"math\",\"bio\",\"comm\",\"anthro\",\"comm\",\"chem\"),\n",
    "                           'experience', make_array(1,0,0,0,1,0,0,0))\n",
    "int5majors\n",
    "-->"
   ]
  },
  {
   "cell_type": "markdown",
   "metadata": {},
   "source": [
    "<font size=\"5\" color=\"blue\">Table: Manipulating Tables</font>\n",
    "\n",
    "<br>\n",
    "\n",
    "<font size=\"3\">\n",
    "    We will perform a simple analysis on the table you created. Tables are a very verastile tool that allows us to\n",
    "    apply many attributes and methods to manipulate the data in the table. \n",
    "</font>\n",
    "\n",
    "We are interested in finding out how many students have experience in programming. Use the table that you created, `int5majors`, to calculate the total number of students who have experience with programming. Save your result to the variable `total_exp`"
   ]
  },
  {
   "cell_type": "markdown",
   "metadata": {},
   "source": [
    "Double-click __here__ for a hint 1\n",
    "<!-- \n",
    "Refer to lecture 6, lecture 4, and lab 3 section 6\n",
    "-->"
   ]
  },
  {
   "cell_type": "markdown",
   "metadata": {},
   "source": [
    "Double-click __here__ for a hint 2\n",
    "<!-- \n",
    "We are not creating a new table, we are using one that we have already created\n",
    "There is no need to use Table()\n",
    "-->"
   ]
  },
  {
   "cell_type": "markdown",
   "metadata": {},
   "source": [
    "Double-click __here__ for a hint 3\n",
    "<!-- \n",
    "We need to perform an operation on an specific column\n",
    "Figure out whether to use .column() or .select()\n",
    "We want to use one of these methods on the table we created\n",
    "-->"
   ]
  },
  {
   "cell_type": "markdown",
   "metadata": {},
   "source": [
    "Double-click __here__ for a hint 4\n",
    "<!-- \n",
    "We want to calculate the sum of the whole specified column\n",
    "-->"
   ]
  },
  {
   "cell_type": "code",
   "execution_count": null,
   "metadata": {},
   "outputs": [],
   "source": [
    "# Write your code here"
   ]
  },
  {
   "cell_type": "markdown",
   "metadata": {},
   "source": [
    "Double-click __here__ for the Solution\n",
    "<!--\n",
    "Both of the following work, try to figure out why\n",
    "--------------------------------------------------------------\n",
    "total_exp = int5majors.column(\"experience\").sum()\n",
    "total_exp\n",
    "--------------------------------------------------------------\n",
    "total_exp = sum(int5majors.column(\"experience\"))\n",
    "total_exp\n",
    "-->"
   ]
  },
  {
   "cell_type": "markdown",
   "metadata": {},
   "source": [
    "<font size=\"3\">\n",
    "    We wish to calculate the fraction of students who are experienced with programming. In other words, the\n",
    "    total number of who are experienced over the total number of students in our table.\n",
    "</font>\n",
    "\n",
    "Save the result using the variable name `frac_exp` and display the results."
   ]
  },
  {
   "cell_type": "markdown",
   "metadata": {},
   "source": [
    "Double-click __here__ for a hint 1\n",
    "<!-- \n",
    "Refer to lecture 6, lecture 4, and lab 3 section 6\n",
    "-->"
   ]
  },
  {
   "cell_type": "markdown",
   "metadata": {},
   "source": [
    "Double-click __here__ for a hint 2\n",
    "<!-- \n",
    "Recall the code that allows us to count the number of rows\n",
    "The number of rows in our table is the total number of students\n",
    "-->"
   ]
  },
  {
   "cell_type": "code",
   "execution_count": null,
   "metadata": {},
   "outputs": [],
   "source": [
    "# Write your code here"
   ]
  },
  {
   "cell_type": "markdown",
   "metadata": {},
   "source": [
    "Double-click __here__ for the Solution\n",
    "<!-- \n",
    "Again, there are multiple ways to get what we want, figure out why they all work\n",
    "-----------------------------------------------------------------------\n",
    "frac_exp = total_exp / int5majors.num_rows\n",
    "frac_exp\n",
    "-----------------------------------------------------------------------\n",
    "frac_exp = int5majors.column(\"experience\").sum() / int5majors.num_rows\n",
    "frac_exp\n",
    "-----------------------------------------------------------------------\n",
    "frac_exp = sum(int5majors.column(\"experience\")) / int5majors.num_rows\n",
    "frac_exp\n",
    "-->"
   ]
  },
  {
   "cell_type": "markdown",
   "metadata": {},
   "source": [
    "<font size=\"5\" color='blue'>Table: Multiple Mainpulations on a Table</font>\n",
    "\n",
    "<br>\n",
    "\n",
    "<font size=\"3\"> \n",
    "    We can apply multiple operations to a table by chaining methods and attributes such as\n",
    "    <br>\n",
    "    example_table.method1().attribute\n",
    "    <br><Br>\n",
    "    This can be tricky, but if you break down the problem step by step, the problem is doable. Chaining is a useful\n",
    "    skill that allows for more complex analysis.\n",
    "\n",
    "</font>\n",
    "    \n",
    "We want to count the number of comm students that are in our `int5majors` table. Save the results to the variable `comm_students` and display the results. \n",
    "\n",
    "Also, explain in your own words the processes you used to get the results."
   ]
  },
  {
   "cell_type": "markdown",
   "metadata": {},
   "source": [
    "Double-click __here__ for hint1\n",
    "<!-- \n",
    "Refer to lab 3\n",
    "-->"
   ]
  },
  {
   "cell_type": "markdown",
   "metadata": {},
   "source": [
    "Double-click __here__ for hint2\n",
    "<!-- \n",
    "You don't need to create a new table, start by using the specified table \n",
    "-->"
   ]
  },
  {
   "cell_type": "markdown",
   "metadata": {},
   "source": [
    "Double-click __here__ for hint3\n",
    "<!-- \n",
    "Next, apply the code that will allow you to select only students who are 'comm' majors\n",
    "-->"
   ]
  },
  {
   "cell_type": "markdown",
   "metadata": {},
   "source": [
    "Double-click __here__ for hint4\n",
    "<!-- \n",
    "Now that we have a table with only comm students\n",
    "Apply the code to tell us the number of students in our table\n",
    "-->"
   ]
  },
  {
   "cell_type": "code",
   "execution_count": null,
   "metadata": {},
   "outputs": [],
   "source": [
    "# Write your code here"
   ]
  },
  {
   "cell_type": "markdown",
   "metadata": {},
   "source": [
    "Write your written response in this cell."
   ]
  },
  {
   "cell_type": "markdown",
   "metadata": {},
   "source": [
    "Double-click __here__ for the Solution\n",
    "<!-- \n",
    "comm_students = int5majors.where('majors', are.equal_to(\"comm\")).select('majors').num_rows\n",
    "comm_students\n",
    "-------------------------------------------------------------------------------------------\n",
    "Break down:\n",
    "1. From our original table: int5majors\n",
    "2. We create a subset table (smaller table) with the rows and columns of only comm majors\n",
    "3. We count the number of rows (Each row represents information to one student)\n",
    "Note: We did not use sum() or select() since the column \"comm\" has all strings\n",
    "Ask the TA's for further clarification\n",
    "-->"
   ]
  },
  {
   "cell_type": "markdown",
   "metadata": {},
   "source": [
    "<font size=\"5\" color=\"purple\">Tables: Adding New rows</font>\n",
    "\n",
    "<font size=\"3\"> \n",
    "    Lastly, we want to create a new table that includes your information as well as the infromation of students in\n",
    "    the table int5majors\n",
    "</font>\n",
    "\n",
    "We need to know your name (or student9 works too), major, and whether you had prior experience with python before int5. Add your informaiton to the new table `updated_int5majors` and display the table. \n",
    "\n",
    "Free hint: students is an array of strings, majors is an array of strings, and experience is an array of ints\n",
    "\n",
    "We will need to create and add a row"
   ]
  },
  {
   "cell_type": "markdown",
   "metadata": {},
   "source": [
    "Double-click __here__ for hint1\n",
    "<!-- \n",
    "Refer to lab 3, section 3\n",
    "-->"
   ]
  },
  {
   "cell_type": "markdown",
   "metadata": {},
   "source": [
    "Double-click __here__ for hint2\n",
    "<!-- \n",
    "Recall, we are adding a new student\n",
    "So, will be adding a new row to the table int5majors\n",
    "-->"
   ]
  },
  {
   "cell_type": "markdown",
   "metadata": {},
   "source": [
    "Double-click __here__ for hint3\n",
    "<!-- \n",
    "A row in a table has different datatypes\n",
    "We will need to create a list\n",
    "-->"
   ]
  },
  {
   "cell_type": "markdown",
   "metadata": {},
   "source": [
    "Double-click __here__ for hint4\n",
    "<!-- \n",
    "We are only adding one row, find the appropiate table method\n",
    "-->"
   ]
  },
  {
   "cell_type": "code",
   "execution_count": null,
   "metadata": {},
   "outputs": [],
   "source": [
    "# Write your code here"
   ]
  },
  {
   "cell_type": "markdown",
   "metadata": {},
   "source": [
    "Double-click __here__ for the Solution\n",
    "<!-- \n",
    "Answers will vary but the logic should be similar\n",
    "-----------------------------------------------------\n",
    "student9 = ['Gaucho','datascience', 1]\n",
    "updated_int5majors = int5majors.with_row(student9)\n",
    "updated_int5majors\n",
    "------------------------------------------------------\n",
    "updated_int5majors = int5majors.with_row(['Gaucho','datascience',1])\n",
    "updated_int5majors\n",
    "-->"
   ]
  },
  {
   "cell_type": "markdown",
   "metadata": {},
   "source": [
    "<font size=\"5\" color=\"green\">Tables: Loading External Data </font>\n",
    "\n",
    "More often than not, you will be working with datasets that have have been created and updated by other people. Use the appropriate table method to load in the table called `tutors_message.csv`. Store the imported table into a variable named `tutor_message` and display the table. "
   ]
  },
  {
   "cell_type": "markdown",
   "metadata": {},
   "source": [
    "Double-click __here__ for hint1\n",
    "<!-- \n",
    "Refer to lab04-practice\n",
    "-->"
   ]
  },
  {
   "cell_type": "markdown",
   "metadata": {},
   "source": [
    "Double-click __here__ for hint2\n",
    "<!-- \n",
    "Use read.table()\n",
    "-->"
   ]
  },
  {
   "cell_type": "code",
   "execution_count": null,
   "metadata": {},
   "outputs": [],
   "source": [
    "# Write your code here"
   ]
  },
  {
   "cell_type": "markdown",
   "metadata": {},
   "source": [
    "Double-click __here__ for the solution\n",
    "<!-- \n",
    "tutor_message = Table().read_table(\"tutors_message.csv\")\n",
    "tutor_message\n",
    "-->"
   ]
  },
  {
   "cell_type": "markdown",
   "metadata": {},
   "source": [
    "<font size=\"5\" color=\"red\"> Tables: Practice Analysis</font>\n",
    "\n",
    "Now, lets combine everything that we have learned in this class so far. This sections of the notebook will include both code and concepts with a higher weight placed on concepts. \n",
    "\n",
    "We will be working with real data. The table that you will be working with is published and maintained by UCSB. We will perform data analysis to hopefully uncover interesting insights on the data.\n",
    "\n",
    "The table contains data related to the amount of bachelor degrees awarded for each major for year 2016/2017. \n",
    "\n",
    "Begin by loading the table called `degrees2017.csv`, store it the variable name `degrees2017`, and display the table in the cell bellow\n"
   ]
  },
  {
   "cell_type": "code",
   "execution_count": null,
   "metadata": {},
   "outputs": [],
   "source": [
    "# Write your code here"
   ]
  },
  {
   "cell_type": "markdown",
   "metadata": {},
   "source": [
    "Double-click __here__ for the solution\n",
    "<!-- \n",
    "degrees2017 = Table.read_table(\"degrees2017.csv\")\n",
    "degrees2017\n",
    "-->"
   ]
  },
  {
   "cell_type": "markdown",
   "metadata": {},
   "source": [
    "Oh, no! One of the tutors doesn't know how to use excel and incorrectly formatted the data. We are only interested in the columns `bachelor_degrees`, `total`, `female` and `male`. Create a new table with only the specified columns and store it in the varable named `revised_degrees2017`. Explain which table method you used and suggest another table method for obtaining the same result."
   ]
  },
  {
   "cell_type": "code",
   "execution_count": null,
   "metadata": {},
   "outputs": [],
   "source": [
    "# Write your code here"
   ]
  },
  {
   "cell_type": "markdown",
   "metadata": {},
   "source": [
    "**Double-click to edit and write you explanation:**"
   ]
  },
  {
   "cell_type": "markdown",
   "metadata": {},
   "source": [
    "Double-click __here__ for the solution\n",
    "<!-- \n",
    "Table should only have four columns, possible solutions\n",
    "----------------------------------------------------------------------------------------\n",
    "revised_degrees2017 =  degrees2017.select('bachelor_degrees','total','female','male')\n",
    "revised_degrees2017\n",
    "----------------------------------------------------------------------------------------\n",
    "revised_degrees2017 = degrees2017.drop('year','2012/2013')\n",
    "revised_degrees2017\n",
    "---------\n",
    "Possible answers to written questions\n",
    "---------\n",
    "We are interested in four specified columns. We are selecting certain columns. Therefore, we use the method .select()\n",
    "---------\n",
    "We are interested in four specified columns. We are dropping all the columns that we dont need. Therefore, we use the method .drop()\n",
    "--->"
   ]
  },
  {
   "cell_type": "markdown",
   "metadata": {},
   "source": [
    "The table looks much better. But that same tutor appears to be sleep deprevied and forgot to include students who earned degrees from CCS. You will need to add a row with the information related to students in CCS. \n",
    "\n",
    "Add a row to `revised_degrees17` with the correpsonding information **Creative Studies, 98, 38, 60**. Save the table to the variable `updated_degrees17` and display the table."
   ]
  },
  {
   "cell_type": "code",
   "execution_count": null,
   "metadata": {},
   "outputs": [],
   "source": [
    "# Write your code here"
   ]
  },
  {
   "cell_type": "markdown",
   "metadata": {},
   "source": [
    "Double-click __here__ for the solution\n",
    "<!-- \n",
    "Answers will vary but logic should be similar\n",
    "--------------------------\n",
    "updated_degrees17 = revised_degrees2017.with_row(['Creative Studies',98,38,60])\n",
    "updated_degrees17\n",
    "---------------------------\n",
    "ccs = ['Creative Studies', 98, 38, 60]\n",
    "updated_degrees17 = revised_degrees2017.with_row(ccs)\n",
    "updated_degrees17\n",
    "-->"
   ]
  },
  {
   "cell_type": "markdown",
   "metadata": {},
   "source": [
    "For the previous problem, what method did you use and why did you use it?\n",
    "\n",
    "What arguement does the method take and why? "
   ]
  },
  {
   "cell_type": "markdown",
   "metadata": {},
   "source": [
    "Double-click __here__ for the solution\n",
    "<!-- \n",
    "What: We used the .with_row() method \n",
    "Why: because we want to add 1 row. \n",
    "--------\n",
    "what: list\n",
    "why: A row is made up of differnt data types. We can not use arrays because arrays have to be all of the same datatype. A list is a container that can different datatypes. In this case, a row for our tables has string, int, int, int. \n",
    "-->"
   ]
  },
  {
   "cell_type": "markdown",
   "metadata": {},
   "source": [
    "The tutor really needs to get some sleep. The tutor accidently deleted two rows and forgot to include them in the table. Don't worry, the other tutors have double checked the data and found no additional mistakes. \n",
    "\n",
    "You will need to add the last two rows to the table `updated_degrees` with the rows **Linguistics,87,57,30** and **Economics,348,135,213**. Save the table to the variable `all_degrees` and display **all the rows** in the table `all_degrees`. "
   ]
  },
  {
   "cell_type": "code",
   "execution_count": null,
   "metadata": {},
   "outputs": [],
   "source": [
    "# Write your code here"
   ]
  },
  {
   "cell_type": "markdown",
   "metadata": {},
   "source": [
    "Double-click __here__ for the solution\n",
    "<!-- \n",
    "Possible Solutions\n",
    "----------------------\n",
    "all_degrees = updated_degrees17.with_rows([['Linguistics',87,57,39],['Economics',348,135,213]])\n",
    "all_degrees.show()\n",
    "-----------------------\n",
    "linguistics = ['Linguistics',87,57,39]\n",
    "economics = ['Economics',348,135,214]\n",
    "all_degrees = updated_degrees17.with_rows([linguistics,economics])\n",
    "all_degrees.show()\n",
    "-->"
   ]
  },
  {
   "cell_type": "markdown",
   "metadata": {},
   "source": [
    "How does adding two rows differ from adding one row? \n",
    "\n",
    "Explain how the arguements differ from adding one row and more than one row. "
   ]
  },
  {
   "cell_type": "markdown",
   "metadata": {},
   "source": [
    "Double-click __here__ for the solution\n",
    "<!-- \n",
    "How: We are adding more than one row so we have to use a different method .with_rows() vs .with_row()\n",
    "------\n",
    "Explain: For .with_row() we use a list with values for a specific row \n",
    "For .with_rows() we still use a list. However, every element in this list contains information for a specific row. \n",
    "Recall, every row is a list\n",
    "[row1, row1] == [[stuff1,stuff2],[stuff1,stuff2]\n",
    "-->"
   ]
  },
  {
   "cell_type": "markdown",
   "metadata": {},
   "source": [
    "The table appears to be complete and filled our with all the correct information. We can now begin our analysis on the data. In the real world, data is messy and you will need to know how to fix the messy tables.\n",
    "\n",
    "The column `bachelor_degrees` tells us the majors at ucsb, `total` tells us the amount of both females and males in a major, `female` is the number of students in the major, and `male` is the number of students in the major. \n",
    "\n",
    "We want to know which major has the highest amount of degrees earned. In the following cell, write that the steps you would take to obtain the most popular major. "
   ]
  },
  {
   "cell_type": "markdown",
   "metadata": {},
   "source": [
    "Double-click __here__ for the solution\n",
    "<!-- \n",
    "We would first start with our table of interest, all_degrees\n",
    "We would need to sort by descending=True on table by total\n",
    "We would select bachelor_degrees\n",
    "we would pick the first 5 items\n",
    "-->"
   ]
  },
  {
   "cell_type": "markdown",
   "metadata": {},
   "source": [
    "Translate the steps that you wrote into code. Save the name of 5 most popular bachelor_degree as an **array** into a varaible called `popular_major`."
   ]
  },
  {
   "cell_type": "code",
   "execution_count": null,
   "metadata": {},
   "outputs": [],
   "source": [
    "# Write your code here"
   ]
  },
  {
   "cell_type": "markdown",
   "metadata": {},
   "source": [
    "Double-click __here__ for the solution\n",
    "<!-- \n",
    "popular_major = all_degrees.sort(\"total\", descending=True).column(\"bachelor_degrees\").item(0)\n",
    "popular_major\n",
    "---------------------------------\n",
    "Why did we use .column()?\n",
    "If we try to use .select() we would get a table\n",
    ".column() give us an array\n",
    "In this case, we get an array of all the bachelor_degrees at ucsb\n",
    "-->"
   ]
  },
  {
   "cell_type": "markdown",
   "metadata": {},
   "source": [
    "Are you suprised the results? We want to know which are the 5 least popular bachelor degrees at UCSB. However, we now want to save the name of the least 5 popular bachelor degrees as a table. A table is easier to read than an array. In the following cells, save the name of the 5 least popular bachelor degrees as a `table` into a variable called `unpopular_majors`."
   ]
  },
  {
   "cell_type": "code",
   "execution_count": null,
   "metadata": {},
   "outputs": [],
   "source": [
    "# Write your code here"
   ]
  },
  {
   "cell_type": "markdown",
   "metadata": {},
   "source": [
    "Double-click __here__ for the solution\n",
    "<!-- \n",
    "unpopular_major = all_degrees.sort(\"total\").select(\"bachelor_degrees\").take(np.arange(5))\n",
    "unpopular_major\n",
    "-->"
   ]
  },
  {
   "cell_type": "markdown",
   "metadata": {},
   "source": [
    "Are you surprised by the results? Some of the degrees were discontinued or belong to a fairly small department. \n",
    "\n",
    "A Psychological and Brain Sciences professor is interested in learning what fraction of students at UCSB earn Psychological and brain sciences degrees. We wish to calculate the number of Pyschological and Brain Scieces degrees over the total number of degrees earned at UCSB. Write the code to calculate this fraction and save it to a variable called `frac_pbs` and print the result. "
   ]
  },
  {
   "cell_type": "code",
   "execution_count": null,
   "metadata": {},
   "outputs": [],
   "source": [
    "# Write your code here"
   ]
  },
  {
   "cell_type": "markdown",
   "metadata": {},
   "source": [
    "Double-click __here__ for the solution\n",
    "<!-- \n",
    "frac_pbs = all_degrees.where(\"bachelor_degrees\", \n",
    "                             are.equal_to('Psychological and Brain Sciences')).column('total') /all_degrees.column('total').sum()\n",
    "frac_pbs\n",
    "-->"
   ]
  },
  {
   "cell_type": "markdown",
   "metadata": {},
   "source": [
    "A sociology professor is interested in learning if the fraction of females earning bachelor_degrees is the same across four different stem and humanities majors. \n",
    "\n",
    "We will start by creating a new table with rows that include `Computer Engineering`, `Sociology`, `Political Science`, and `Statistics & Applied Probability`. We will name this new table as the variable `female_degrees`. The code for doing this has been provided. "
   ]
  },
  {
   "cell_type": "code",
   "execution_count": null,
   "metadata": {},
   "outputs": [],
   "source": [
    "female_degrees = all_degrees.where( \"bachelor_degrees\",\n",
    "        are.contained_in(make_array(\"Computer Engineering\",\n",
    "                                    'Sociology',\n",
    "                                    \"Political Science\",\n",
    "                                    'Statistics & Applied Probability')))\n",
    "female_degrees"
   ]
  },
  {
   "cell_type": "markdown",
   "metadata": {},
   "source": [
    "In words, explain what the code above is doing. "
   ]
  },
  {
   "cell_type": "markdown",
   "metadata": {},
   "source": [
    "Double-click __here__ for the solution\n",
    "<!-- \n",
    "We are returning a table with rows that contain the majors \"Computer Engineering\",'Sociology',\"Political Science\",'Statistics & Applied Probability'\n",
    "We use the method .where() to return a table where the majors are in the column bachelor_degrees\n",
    "We use .contained_in() because we are intersted in matching with multiple strings\n",
    "Please ask a TA for further clarication\n",
    "-->"
   ]
  },
  {
   "cell_type": "markdown",
   "metadata": {},
   "source": [
    "We will next calculate the percentage of females in their respective majors. Save the result as an array in the variable `frac_female`"
   ]
  },
  {
   "cell_type": "code",
   "execution_count": null,
   "metadata": {},
   "outputs": [],
   "source": [
    "# Write your code here"
   ]
  },
  {
   "cell_type": "markdown",
   "metadata": {},
   "source": [
    "Double-click __here__ for the solution\n",
    "<!-- \n",
    "Recall how mathematical operations work on arrays\n",
    "frac_female = female_degrees.column('female') / female_degrees.column('total')\n",
    "frac_female\n",
    "-->"
   ]
  },
  {
   "cell_type": "markdown",
   "metadata": {},
   "source": [
    "Finally, we wish to add the array `frac_female` to the table `female_degrees`. Create a new column called `fraction_female` that includes the information related frac_female and Name the new table `frac_female_degrees`"
   ]
  },
  {
   "cell_type": "code",
   "execution_count": null,
   "metadata": {},
   "outputs": [],
   "source": [
    "frac_female_degrees = female_degrees.with_column('fraction_female', frac_female)\n",
    "frac_female_degrees"
   ]
  },
  {
   "cell_type": "markdown",
   "metadata": {},
   "source": [
    "Do the results suprise you or where they what you expected? \n",
    "\n",
    "In the real world, we will need to present our findings. Visualizations are a powerful tell to convey your results."
   ]
  },
  {
   "cell_type": "code",
   "execution_count": null,
   "metadata": {},
   "outputs": [],
   "source": [
    "import matplotlib\n",
    "matplotlib.use('Agg', warn=False)\n",
    "%matplotlib inline\n",
    "import matplotlib.pyplot as plots\n",
    "plots.style.use('fivethirtyeight')"
   ]
  },
  {
   "cell_type": "markdown",
   "metadata": {},
   "source": [
    "In the follow cell, write the code to create a horizontal bar graph with bachelor_degrees on the y-axis and fraction_female on the x-axis. Look at your formula sheet for help on how to graph. "
   ]
  },
  {
   "cell_type": "code",
   "execution_count": null,
   "metadata": {},
   "outputs": [],
   "source": [
    "frac_female_degrees.barh('bachelor_degrees','fraction_female')"
   ]
  },
  {
   "cell_type": "markdown",
   "metadata": {},
   "source": [
    "Double-click __here__ for the solution\n",
    "<!-- \n",
    "frac_female_degrees.barh('bachelor_degrees','female')\n",
    "-->"
   ]
  },
  {
   "cell_type": "markdown",
   "metadata": {},
   "source": [
    "The graph makes it easier to see that the proportion of females in engineering and hard sciences is less than in humanities degrees. \n",
    "\n",
    "You have succesfully completed you first data science anaylsis on real world data. I hope you learned how the skills you are learning in INT 5 will be applicable to real world data. For any further questions, reach out to your tutors. Good Luck on your midterms! "
   ]
  }
 ],
 "metadata": {
  "kernelspec": {
   "display_name": "Python 3",
   "language": "python",
   "name": "python3"
  },
  "language_info": {
   "codemirror_mode": {
    "name": "ipython",
    "version": 3
   },
   "file_extension": ".py",
   "mimetype": "text/x-python",
   "name": "python",
   "nbconvert_exporter": "python",
   "pygments_lexer": "ipython3",
   "version": "3.6.7"
  },
  "toc": {
   "base_numbering": 1,
   "nav_menu": {},
   "number_sections": true,
   "sideBar": true,
   "skip_h1_title": false,
   "title_cell": "Table of Contents",
   "title_sidebar": "Contents",
   "toc_cell": false,
   "toc_position": {},
   "toc_section_display": true,
   "toc_window_display": false
  }
 },
 "nbformat": 4,
 "nbformat_minor": 2
}
