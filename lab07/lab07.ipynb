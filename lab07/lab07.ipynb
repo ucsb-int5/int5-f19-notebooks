{
 "cells": [
  {
   "cell_type": "code",
   "execution_count": null,
   "metadata": {
    "deletable": false,
    "editable": false
   },
   "outputs": [],
   "source": [
    "# Initialize OK\n",
    "from client.api.notebook import Notebook\n",
    "ok = Notebook('lab07.ok')"
   ]
  },
  {
   "cell_type": "markdown",
   "metadata": {},
   "source": [
    "# Lab 7: Regression\n",
    "\n",
    "Welcome to Lab 7!\n",
    "\n",
    "Today we are going to do some more probability and simulation exercises. And then we will get some hands-on practice with linear regression. You can find more information about this topic in\n",
    "[Section 15.2](https://www.inferentialthinking.com/chapters/15/2/Regression_Line.html)."
   ]
  },
  {
   "cell_type": "code",
   "execution_count": 235,
   "metadata": {},
   "outputs": [],
   "source": [
    "# Run this cell, but please don't change it.\n",
    "\n",
    "# These lines import the NumPy and Datascience modules.\n",
    "import numpy as np\n",
    "from datascience import *\n",
    "\n",
    "# These lines do some fancy plotting magic.\n",
    "import matplotlib\n",
    "%matplotlib inline\n",
    "import matplotlib.pyplot as plots\n",
    "plots.style.use('fivethirtyeight')\n",
    "import warnings\n",
    "warnings.simplefilter('ignore', FutureWarning)"
   ]
  },
  {
   "cell_type": "markdown",
   "metadata": {},
   "source": [
    "# 1. Simulation and Probability: Drawing Cards\n",
    "\n",
    "## 1. Simulation: Randomly Drawing Two Cards (with Replacement)\n",
    "\n",
    "Suppose you have a deck of cards. Your deck of cards consists of 54 Cards. There are 52 cards in each of the 4 suits of Spades, Hearts, Diamonds, and Clubs. Each suit contains 13 cards: Ace, 2, 3, 4, 5, 6, 7, 8, 9, 10, Jack, Queen, King. In addition, you also have 2 Jokers. \n",
    "\n",
    "To simplify your analysis, you decide to assign numerical values to each card in the deck. All the Aces are assigned 1, all the Jacks are assigned 11, all the Queens are assigned 12, all the Kings are assigned 13 and all the Jokers are assigned 14. The other cards retain their numerical values. Therefore, you have 4 cards of value 1, 4 cards of value 2, ..., 4 cards of value 12, 4 cards of value 13, and 2 cards of value 14."
   ]
  },
  {
   "cell_type": "markdown",
   "metadata": {
    "deletable": false,
    "editable": false
   },
   "source": [
    "#### Question 1\n",
    "Make an array `deck_of_cards` that represents the numerical values of your deck of cards. Your array should have 4 entries of value 1, 4 entries of value 2, ..., 4 entries of value 12, 4 entries of value 13, and 2 entries of value 14. We are going to craete 5 arrays and then use `np.concatenate` to combine them.\n",
    "\n",
    "<!--\n",
    "BEGIN QUESTION\n",
    "name: q1_1\n",
    "manual: false\n",
    "points: 2\n",
    "-->"
   ]
  },
  {
   "cell_type": "code",
   "execution_count": 236,
   "metadata": {},
   "outputs": [],
   "source": [
    "spades = ...\n",
    "hearts = ...\n",
    "diamonds = ...\n",
    "clubs = ...\n",
    "jokers = ...\n",
    "deck_of_cards = np.concatenate([spades, hearts, diamonds, clubs, jokers])\n",
    "deck_of_cards"
   ]
  },
  {
   "cell_type": "code",
   "execution_count": null,
   "metadata": {
    "deletable": false,
    "editable": false
   },
   "outputs": [],
   "source": [
    "ok.grade(\"q1_1\");"
   ]
  },
  {
   "cell_type": "markdown",
   "metadata": {},
   "source": [
    "You are interested in what cards you would get if you randomly draw two cards with replacement from the deck. Randomly drawing two cards with replacement means that you randomly draw one card, remember what card you have drawn, put the card back in the deck, randomly draw another card, remember what card you have drawn, and put the card back in the deck. In other words, drawing cards with replacement ensures that every time you start with the complete deck of cards.\n",
    "\n",
    "To simplify your analysis even further, you decide that you are only interested in the sum of the numerical values of the two cards you draw. Next, we are going to write a function `draw_two_cards` to simulate drawing the cards and computing their sum."
   ]
  },
  {
   "cell_type": "markdown",
   "metadata": {
    "deletable": false,
    "editable": false
   },
   "source": [
    "#### Question 2\n",
    "Define a function called `draw_two_cards` to simulate randomly drawing two cards with replacement from your deck of cards. The function should have exactly one argument (which is an array representing your deck of cards) and return an int (which is the sum of the numerical values of the two cards you randomly draw). \n",
    "\n",
    "*Hint 1:* Use `np.random.choice`. And note that `np.random.choice` does not change the array, so calling `np.random.choice` twice is equivalent to randomly drawing two cards with replacement.\n",
    "\n",
    "*Hint 2:* Inside your function definition, make sure you are using the array that is passed in through the argument of the function. This is crucial because later we are going to use `draw_two_cards` on some different decks of cards.\n",
    "\n",
    "<!--\n",
    "BEGIN QUESTION\n",
    "name: q1_2\n",
    "manual: false\n",
    "points: 2\n",
    "-->"
   ]
  },
  {
   "cell_type": "code",
   "execution_count": 240,
   "metadata": {},
   "outputs": [],
   "source": [
    "# Define your function here\n",
    "def draw_two_cards(my_deck):\n",
    "    \"\"\"\n",
    "    The input my_deck is an array representing \n",
    "    the numerical values of a deck of cards.\n",
    "    The function returns an integer representing \n",
    "    the sum of the numerical values of the two cards \n",
    "    that were randomly drawn.\n",
    "    \"\"\"\n",
    "...\n",
    "    \n",
    "# Test your function here\n",
    "draw_two_cards(deck_of_cards)"
   ]
  },
  {
   "cell_type": "code",
   "execution_count": null,
   "metadata": {
    "deletable": false,
    "editable": false
   },
   "outputs": [],
   "source": [
    "ok.grade(\"q1_2\");"
   ]
  },
  {
   "cell_type": "markdown",
   "metadata": {},
   "source": [
    "You want to know what you should expect the sum of two randomly drawn cards to be on average. This means you are going to use the function `draw_two_cards` on `deck_of_cards` many times, and calculate the average of the values returned by `draw_two_cards`."
   ]
  },
  {
   "cell_type": "markdown",
   "metadata": {
    "deletable": false,
    "editable": false
   },
   "source": [
    "#### Question 3\n",
    "Call the function `draw_two_cards` on `deck_of_cards` 100000 times. Store the results in an array called `simulation_results`; in other words, `simulation_results` should have a 100000 entries and each entry corresponds to the returned value of one function call. \n",
    "\n",
    "*Hint 1:* You should use a `for` loop. Inside the for loop, you should use `np.append` to build up the array `simulation_results`. Check out Lab 5 if you don't remember how `np.append` works.\n",
    "\n",
    "*Hint 2:* Since a `for` loop with 100000 iterations takes a considerable amount of time, you should use a smaller number of iterations (e.g., 10) first to make sure your code works, and then change the number of iterations to 100000.\n",
    "\n",
    "<!--\n",
    "BEGIN QUESTION\n",
    "name: q1_3\n",
    "manual: false\n",
    "points: 2\n",
    "-->"
   ]
  },
  {
   "cell_type": "code",
   "execution_count": 243,
   "metadata": {},
   "outputs": [],
   "source": [
    "simulation_results = ...\n",
    "\n",
    "# Write your for loop here\n",
    "...\n",
    "    \n",
    "simulation_results"
   ]
  },
  {
   "cell_type": "code",
   "execution_count": null,
   "metadata": {
    "deletable": false,
    "editable": false
   },
   "outputs": [],
   "source": [
    "ok.grade(\"q1_3\");"
   ]
  },
  {
   "cell_type": "markdown",
   "metadata": {
    "deletable": false,
    "editable": false
   },
   "source": [
    "#### Question 4\n",
    "Calculate the average of `simulation_results` and assign the average to `average_sum`.\n",
    "\n",
    "*Hint:* `np.mean` can be used to calculate the average of the entries of an array.\n",
    "\n",
    "<!--\n",
    "BEGIN QUESTION\n",
    "name: q1_4\n",
    "manual: false\n",
    "points: 2\n",
    "-->"
   ]
  },
  {
   "cell_type": "code",
   "execution_count": 247,
   "metadata": {},
   "outputs": [],
   "source": [
    "average_sum = ...\n",
    "average_sum"
   ]
  },
  {
   "cell_type": "code",
   "execution_count": null,
   "metadata": {
    "deletable": false,
    "editable": false
   },
   "outputs": [],
   "source": [
    "ok.grade(\"q1_4\");"
   ]
  },
  {
   "cell_type": "markdown",
   "metadata": {
    "deletable": false,
    "editable": false
   },
   "source": [
    "Next, you decide to remove the two Jokers from your deck of cards, and do the same simulation and analysis again to see if anything changes.\n",
    "\n",
    "#### Question 5\n",
    "Make an array `deck_of_cards_without_jokers` that represents the numerical values of your deck of cards after you remove the two Jokers. Your array should have 4 entries of value 1, 4 entries of value 2, ..., 4 entries of value 12, 4 entries of value 13. \n",
    "\n",
    "*Hint:* Note that using `np.concatenate` to combine some of the arrays we defined in Question 1 will solve the problem.\n",
    "\n",
    "<!--\n",
    "BEGIN QUESTION\n",
    "name: q1_5\n",
    "manual: false\n",
    "points: 2\n",
    "-->"
   ]
  },
  {
   "cell_type": "code",
   "execution_count": 249,
   "metadata": {},
   "outputs": [],
   "source": [
    "deck_of_cards_without_jokers = ...\n",
    "deck_of_cards_without_jokers"
   ]
  },
  {
   "cell_type": "code",
   "execution_count": null,
   "metadata": {
    "deletable": false,
    "editable": false
   },
   "outputs": [],
   "source": [
    "ok.grade(\"q1_5\");"
   ]
  },
  {
   "cell_type": "markdown",
   "metadata": {
    "deletable": false,
    "editable": false
   },
   "source": [
    "#### Question 6\n",
    "Call the function `draw_two_cards` on `deck_of_cards_without_jokers` 100000 times. Store the results in an array called `simulation_results_without_jokers`. \n",
    "\n",
    "<!--\n",
    "BEGIN QUESTION\n",
    "name: q1_6\n",
    "manual: false\n",
    "points: 2\n",
    "-->"
   ]
  },
  {
   "cell_type": "code",
   "execution_count": 253,
   "metadata": {},
   "outputs": [],
   "source": [
    "simulation_results_without_jokers = ...\n",
    "\n",
    "# Write your for loop here\n",
    "...\n",
    "\n",
    "simulation_results_without_jokers"
   ]
  },
  {
   "cell_type": "code",
   "execution_count": null,
   "metadata": {
    "deletable": false,
    "editable": false
   },
   "outputs": [],
   "source": [
    "ok.grade(\"q1_6\");"
   ]
  },
  {
   "cell_type": "markdown",
   "metadata": {
    "deletable": false,
    "editable": false
   },
   "source": [
    "#### Question 7\n",
    "Calculate the average of `simulation_results_without_jokers` and assign the average to `average_sum_without_jokers`.\n",
    "\n",
    "<!--\n",
    "BEGIN QUESTION\n",
    "name: q1_7\n",
    "manual: false\n",
    "points: 2\n",
    "-->"
   ]
  },
  {
   "cell_type": "code",
   "execution_count": 257,
   "metadata": {},
   "outputs": [],
   "source": [
    "average_sum_without_jokers = ...\n",
    "average_sum_without_jokers"
   ]
  },
  {
   "cell_type": "code",
   "execution_count": null,
   "metadata": {
    "deletable": false,
    "editable": false
   },
   "outputs": [],
   "source": [
    "ok.grade(\"q1_7\");"
   ]
  },
  {
   "cell_type": "markdown",
   "metadata": {
    "deletable": false,
    "editable": false
   },
   "source": [
    "#### Question 8\n",
    "\n",
    "Did the `average_sum_without_jokers` change? Is it expected? Why?\n",
    "\n",
    "<!--\n",
    "BEGIN QUESTION\n",
    "name: q8\n",
    "points: 3\n",
    "manual: True\n",
    "-->\n",
    "\n",
    "\n",
    "<!-- EXPORT TO PDF -->"
   ]
  },
  {
   "cell_type": "markdown",
   "metadata": {},
   "source": [
    "## 2. Calculating Probability and Expected Value\n",
    "\n",
    "Now let's go back to the case where we have a full deck of cards: 4 cards of value 1, 4 cards of value 2, ..., 4 cards of value 12, 4 cards of value 13, and 2 cards of value 14. In total, we have 54 cards."
   ]
  },
  {
   "cell_type": "markdown",
   "metadata": {
    "deletable": false,
    "editable": false
   },
   "source": [
    "#### Question 1\n",
    "Let's draw one card from the deck. What is the probability of drawing a card of value 1 (i.e., an Ace)? Assign your answer to `prob_1`.\n",
    "\n",
    "<!--\n",
    "BEGIN QUESTION\n",
    "name: q2_1\n",
    "manual: false\n",
    "points: 2\n",
    "-->"
   ]
  },
  {
   "cell_type": "code",
   "execution_count": 259,
   "metadata": {},
   "outputs": [],
   "source": [
    "prob_1 = ...\n",
    "prob_1"
   ]
  },
  {
   "cell_type": "code",
   "execution_count": null,
   "metadata": {
    "deletable": false,
    "editable": false
   },
   "outputs": [],
   "source": [
    "ok.grade(\"q2_1\");"
   ]
  },
  {
   "cell_type": "markdown",
   "metadata": {},
   "source": [
    "Note that by the same reasoning, we can conclude that the probability of drawing a card of value 2 is equal to the probability of drawing a card of value 1. The same goes for the probability of drawing a card of value 3, value 4, ..., value 13. Let's call this probability `prob_non_joker`."
   ]
  },
  {
   "cell_type": "code",
   "execution_count": 261,
   "metadata": {},
   "outputs": [],
   "source": [
    "prob_non_joker = prob_1\n",
    "prob_non_joker"
   ]
  },
  {
   "cell_type": "markdown",
   "metadata": {
    "deletable": false,
    "editable": false
   },
   "source": [
    "#### Question 2\n",
    "However, the probability of drawing a Joker is different. What is the probability of drawing a card of value 14 (i.e., a Joker)? Assign your answer to `prob_joker`.\n",
    "\n",
    "<!--\n",
    "BEGIN QUESTION\n",
    "name: q2_2\n",
    "manual: false\n",
    "points: 2\n",
    "-->"
   ]
  },
  {
   "cell_type": "code",
   "execution_count": 262,
   "metadata": {},
   "outputs": [],
   "source": [
    "prob_joker = ...\n",
    "prob_joker"
   ]
  },
  {
   "cell_type": "code",
   "execution_count": null,
   "metadata": {
    "deletable": false,
    "editable": false
   },
   "outputs": [],
   "source": [
    "ok.grade(\"q2_2\");"
   ]
  },
  {
   "cell_type": "markdown",
   "metadata": {},
   "source": [
    "In the next question, we are going to calculate **the expected value of a randomly drawn _card_ from `deck_of_cards`**. The purpose of this calculation will be clear in a minute. **Note that we are not calculating the expected value of the _sum of two randomly drawn cards_ yet.**"
   ]
  },
  {
   "cell_type": "markdown",
   "metadata": {
    "deletable": false,
    "editable": false
   },
   "source": [
    "#### Question 3\n",
    "\n",
    "How do we calculate the expected value of a randomly drawn card from `deck_of_cards`? Replace the ellipsis with your expression in the cell below. Remember to use `prob_non_joker` and `prob_joker`!\n",
    "\n",
    "*Hint:* If you don't remember how to calculate expected value, check out Lab 6's explanation of expected value.\n",
    "\n",
    "<!--\n",
    "BEGIN QUESTION\n",
    "name: q2_3\n",
    "manual: false\n",
    "points: 2\n",
    "-->"
   ]
  },
  {
   "cell_type": "code",
   "execution_count": 264,
   "metadata": {},
   "outputs": [],
   "source": [
    "expected_value_card = ...\n",
    "expected_value_card"
   ]
  },
  {
   "cell_type": "code",
   "execution_count": null,
   "metadata": {
    "deletable": false,
    "editable": false
   },
   "outputs": [],
   "source": [
    "ok.grade(\"q2_3\");"
   ]
  },
  {
   "cell_type": "markdown",
   "metadata": {
    "deletable": false,
    "editable": false
   },
   "source": [
    "Now we are going to calculate the expected value of **the sum of two randomly drawn cards** (with replacement) from `deck_of_cards`. \n",
    "\n",
    "We are not going to justify it, we will just use the fact that we can  calculate the expected value of the first randomly drawn card, do the same for the second randomly drawn card, and then add those two expected values together. (For those curious minds, this is because of [the linearity of expectation](https://en.wikipedia.org/wiki/Expected_value#Basic_properties).)\n",
    "\n",
    "Also, note that the first expected value is the same as the second expected value. This is because we draw cards with replacement, i.e., we put back the card we have drawn. Therefore, every time we draw a card, we start with the same, unmodified deck of cards. Since the situations are exactly the same, the expected values for each card are exactly the same as well.\n",
    "\n",
    "\n",
    "#### Question 4\n",
    "\n",
    "According to the explanation above, how do we calculate the expected value of the sum of the values of two cards randomly drawn (with replacement) from `deck_of_cards`? Replace the ellipsis with your expression in the cell below. Remember to use `expected_value_card`.\n",
    "\n",
    "<!--\n",
    "BEGIN QUESTION\n",
    "name: q2_4\n",
    "manual: false\n",
    "points: 2\n",
    "-->"
   ]
  },
  {
   "cell_type": "code",
   "execution_count": 266,
   "metadata": {},
   "outputs": [],
   "source": [
    "expected_value_sum = ...\n",
    "expected_value_sum"
   ]
  },
  {
   "cell_type": "code",
   "execution_count": null,
   "metadata": {
    "deletable": false,
    "editable": false
   },
   "outputs": [],
   "source": [
    "ok.grade(\"q2_4\");"
   ]
  },
  {
   "cell_type": "markdown",
   "metadata": {},
   "source": [
    "Observe that `expected_value_sum` is very close to `average_sum` from your simulation of drawing cards!"
   ]
  },
  {
   "cell_type": "markdown",
   "metadata": {},
   "source": [
    "# 2. Linear Regression: How Faithful is Old Faithful? \n",
    "\n",
    "(Note: clever title comes from [here](http://web.pdx.edu/~jfreder/M212/oldfaithful.pdf).)\n",
    "\n",
    "## 1. Correlation\n",
    "\n",
    "Old Faithful is a geyser in Yellowstone National Park in the central United States.  It's famous for erupting on a fairly regular schedule.  You can see a video below."
   ]
  },
  {
   "cell_type": "code",
   "execution_count": 268,
   "metadata": {},
   "outputs": [],
   "source": [
    "# For the curious: this is how to display a YouTube video in a\n",
    "# Jupyter notebook.  The argument to YouTubeVideo is the part\n",
    "# of the URL (called a \"query parameter\") that identifies the\n",
    "# video.  For example, the full URL for this video is:\n",
    "#   https://www.youtube.com/watch?v=wE8NDuzt8eg\n",
    "from IPython.display import YouTubeVideo\n",
    "YouTubeVideo(\"wE8NDuzt8eg\")"
   ]
  },
  {
   "cell_type": "markdown",
   "metadata": {},
   "source": [
    "Some of Old Faithful's eruptions last longer than others.  When it has a long eruption, there's generally a longer wait until the next eruption.\n",
    "\n",
    "If you visit Yellowstone, you might want to predict when the next eruption will happen, so you can see the rest of the park and come to see the geyser when it happens.  Today, we will use a dataset on eruption durations and waiting times to see if we can make such predictions accurately with linear regression. We would like to predict the waiting time for an eruption by using the eruption's duration.\n",
    "\n",
    "The dataset has one row for each observed eruption.  It includes the following columns:\n",
    "- **duration**: Eruption duration, in minutes\n",
    "- **wait**: Time between this eruption and the next, also in minutes\n",
    "\n",
    "Run the next cell to load the dataset."
   ]
  },
  {
   "cell_type": "code",
   "execution_count": 269,
   "metadata": {},
   "outputs": [],
   "source": [
    "faithful = Table.read_table(\"faithful.csv\")\n",
    "faithful"
   ]
  },
  {
   "cell_type": "markdown",
   "metadata": {},
   "source": [
    "We would like to use linear regression to make predictions, but that won't work well if the data aren't roughly linearly related.  To check that there is a linear relationship, we should look at the data."
   ]
  },
  {
   "cell_type": "markdown",
   "metadata": {},
   "source": [
    "#### Question 1\n",
    "Make a scatter plot of the data.  It's conventional to put the column we will try to predict on the vertical axis (in our case, **wait**) and the other column (in our case, **duration**) on the horizontal axis.\n",
    "\n",
    "_Hint: Remember that the format of the command is:_ \n",
    "\n",
    "`tbl.scatter(\"Column for the x axis\", \"Column for the y axis\")`."
   ]
  },
  {
   "cell_type": "code",
   "execution_count": 270,
   "metadata": {},
   "outputs": [],
   "source": [
    "..."
   ]
  },
  {
   "cell_type": "markdown",
   "metadata": {
    "deletable": false,
    "editable": false
   },
   "source": [
    "#### Question 2\n",
    "Look at the scatter plot. Are eruption duration and waiting time roughly linearly related?  If so, is the relationship negative or positive?  You may want to consult [the textbook chapter 13](https://ucsd-dsc10.gitbooks.io/textbook/content/chapters/13/prediction.html) for the definition of \"linearly related.\"  Assign either 1, 2, 3, or 4 to the variable `faith_q2` below. \n",
    "\n",
    "(Multiple choice question. Select one option.)\n",
    "\n",
    "1. Eruption duration and waiting time are not roughly linearly related.\n",
    "2. Eruption duration and waiting time are roughly linearly related, the relationship between them is flat (no relationship).\n",
    "3. Eruption duration and waiting time are roughly linearly related, the relationship between them is negative.\n",
    "4. Eruption duration and waiting time are roughly linearly related, the relationship between them is positive.\n",
    "\n",
    "<!--\n",
    "BEGIN QUESTION\n",
    "name: q3_2\n",
    "manual: false\n",
    "points: 2\n",
    "-->"
   ]
  },
  {
   "cell_type": "code",
   "execution_count": 271,
   "metadata": {},
   "outputs": [],
   "source": [
    "faith_q2 = ..."
   ]
  },
  {
   "cell_type": "code",
   "execution_count": null,
   "metadata": {
    "deletable": false,
    "editable": false
   },
   "outputs": [],
   "source": [
    "ok.grade(\"q3_2\");"
   ]
  },
  {
   "cell_type": "markdown",
   "metadata": {},
   "source": [
    "We're going to continue with the provisional assumption that they are linearly related, so it's reasonable to use linear regression to analyze this data.\n",
    "\n",
    "We'd next like to plot the data in standard units.  Recall that, if `nums` is an array of numbers, then\n",
    "\n",
    "    (nums - np.mean(nums)) / np.std(nums)\n",
    "\n",
    "...is an array of those numbers in standard units."
   ]
  },
  {
   "cell_type": "markdown",
   "metadata": {
    "deletable": false,
    "editable": false
   },
   "source": [
    "#### Question 3.1\n",
    "Compute the mean and standard deviation of the eruption durations and waiting times. \n",
    "\n",
    "<!--\n",
    "BEGIN QUESTION\n",
    "name: q3_3_1\n",
    "manual: false\n",
    "points: 2\n",
    "-->"
   ]
  },
  {
   "cell_type": "code",
   "execution_count": 276,
   "metadata": {},
   "outputs": [],
   "source": [
    "duration_mean = ...\n",
    "duration_std = ...\n",
    "wait_mean = ...\n",
    "wait_std = ..."
   ]
  },
  {
   "cell_type": "code",
   "execution_count": null,
   "metadata": {
    "deletable": false,
    "editable": false
   },
   "outputs": [],
   "source": [
    "ok.grade(\"q3_3_1\");"
   ]
  },
  {
   "cell_type": "markdown",
   "metadata": {
    "deletable": false,
    "editable": false
   },
   "source": [
    "#### Question 3.2\n",
    "Now, create a table called `faithful_standard` containing the eruption durations and waiting times in standard units.  (The columns should be named `\"duration (standard units)\"` and `\"wait (standard units)\"`).\n",
    "\n",
    "<!--\n",
    "BEGIN QUESTION\n",
    "name: q3_3_2\n",
    "manual: false\n",
    "points: 2\n",
    "-->"
   ]
  },
  {
   "cell_type": "code",
   "execution_count": 279,
   "metadata": {},
   "outputs": [],
   "source": [
    "duration_in_su = ...\n",
    "wait_in_su = ...\n",
    "\n",
    "faithful_standard = Table().with_columns(\n",
    "    \"duration (standard units)\", duration_in_su,\n",
    "    \"wait (standard units)\", wait_in_su)\n",
    "faithful_standard"
   ]
  },
  {
   "cell_type": "code",
   "execution_count": null,
   "metadata": {
    "deletable": false,
    "editable": false
   },
   "outputs": [],
   "source": [
    "ok.grade(\"q3_3_2\");"
   ]
  },
  {
   "cell_type": "markdown",
   "metadata": {},
   "source": [
    "#### Question 4\n",
    "Plot the data again, but this time make sure your scatterplot axes are in standard units."
   ]
  },
  {
   "cell_type": "code",
   "execution_count": 281,
   "metadata": {},
   "outputs": [],
   "source": [
    "..."
   ]
  },
  {
   "cell_type": "markdown",
   "metadata": {},
   "source": [
    "You'll notice that this plot looks exactly the same as the last one!  The data really are different, but the axes are scaled differently.  (The method `scatter` scales the axes so the data fill up the available space.)  It's very important to pay attention to the ticks on the axes."
   ]
  },
  {
   "cell_type": "markdown",
   "metadata": {
    "deletable": false,
    "editable": false
   },
   "source": [
    "#### Question 5\n",
    "Among the following numbers, which would you guess is closest to the correlation between eruption duration and waiting time in this dataset?\n",
    "\n",
    "* -1\n",
    "* 0\n",
    "* 1\n",
    "\n",
    "<!--\n",
    "BEGIN QUESTION\n",
    "name: q3_5\n",
    "manual: false\n",
    "points: 2\n",
    "-->"
   ]
  },
  {
   "cell_type": "code",
   "execution_count": 282,
   "metadata": {},
   "outputs": [],
   "source": [
    "correlation_guess = ..."
   ]
  },
  {
   "cell_type": "code",
   "execution_count": null,
   "metadata": {
    "deletable": false,
    "editable": false
   },
   "outputs": [],
   "source": [
    "ok.grade(\"q3_5\");"
   ]
  },
  {
   "cell_type": "markdown",
   "metadata": {
    "deletable": false,
    "editable": false
   },
   "source": [
    "#### Question 6\n",
    "Compute the correlation `r`.  \n",
    "\n",
    "*Hint:* Use `faithful_standard` table.  Section [15.2](https://www.inferentialthinking.com/chapters/15/1/Correlation.html) explains how to do this.\n",
    "\n",
    "<!--\n",
    "BEGIN QUESTION\n",
    "name: q3_6\n",
    "manual: false\n",
    "points: 2\n",
    "-->"
   ]
  },
  {
   "cell_type": "code",
   "execution_count": 284,
   "metadata": {},
   "outputs": [],
   "source": [
    "r = ...\n",
    "r"
   ]
  },
  {
   "cell_type": "code",
   "execution_count": null,
   "metadata": {
    "deletable": false,
    "editable": false
   },
   "outputs": [],
   "source": [
    "ok.grade(\"q3_6\");"
   ]
  },
  {
   "cell_type": "markdown",
   "metadata": {},
   "source": [
    "## 2. The regression line\n",
    "Recall that the correlation is the slope of the regression line when the data are put in standard units.\n",
    "\n",
    "The next cell plots the regression line in standard units:\n",
    "\n",
    "$$\\text{waiting time (standard units)} = r \\times \\text{eruption duration (standard units)}.$$\n",
    "\n",
    "Then, it plots the original data again, for comparison."
   ]
  },
  {
   "cell_type": "code",
   "execution_count": 286,
   "metadata": {},
   "outputs": [],
   "source": [
    "def plot_data_and_line(dataset, x, y, point_0, point_1):\n",
    "    \"\"\"Makes a scatter plot of the dataset, along with a line passing through two points.\"\"\"\n",
    "    dataset.scatter(x, y, label=\"data\")\n",
    "    xs, ys = zip(point_0, point_1)\n",
    "    plots.plot(xs, ys, label=\"regression line\")\n",
    "    plots.legend(bbox_to_anchor=(1.5,.8))\n",
    "\n",
    "plot_data_and_line(faithful_standard, \n",
    "                   \"duration (standard units)\", \n",
    "                   \"wait (standard units)\", \n",
    "                   [-2, -2*r], \n",
    "                   [2, 2*r])"
   ]
  },
  {
   "cell_type": "markdown",
   "metadata": {},
   "source": [
    "How would you take a point in standard units and convert it back to original units?  We'd have to \"stretch\" its horizontal position by `duration_std` and its vertical position by `wait_std`.\n",
    "\n",
    "That means the same thing would happen to the slope of the line.\n",
    "\n",
    "Stretching a line horizontally makes it less steep, so we divide the slope by the stretching factor.  Stretching a line vertically makes it more steep, so we multiply the slope by the stretching factor.\n",
    "\n",
    "#### Question 1\n",
    "What is the slope of the regression line in original units?\n",
    "\n",
    "(If the \"stretching\" explanation is unintuitive, consult section [15.2](https://www.inferentialthinking.com/chapters/15/2/Regression_Line.html) in the textbook.)"
   ]
  },
  {
   "cell_type": "code",
   "execution_count": 287,
   "metadata": {},
   "outputs": [],
   "source": [
    "slope = ...\n",
    "slope"
   ]
  },
  {
   "cell_type": "markdown",
   "metadata": {
    "deletable": false,
    "editable": false
   },
   "source": [
    "We know that the regression line passes through the point `(duration_mean, wait_mean)`.  You might recall from high-school algebra that the equation for the line is therefore:\n",
    "\n",
    "$$\\text{waiting time} - \\verb|wait_mean| = \\texttt{slope} \\times (\\text{eruption duration} - \\verb|duration_mean|)$$\n",
    "\n",
    "After rearranging that equation slightly, the intercept turns out to be:\n",
    "\n",
    "<!--\n",
    "BEGIN QUESTION\n",
    "name: q4_1\n",
    "manual: false\n",
    "points: 2\n",
    "-->"
   ]
  },
  {
   "cell_type": "code",
   "execution_count": 288,
   "metadata": {},
   "outputs": [],
   "source": [
    "intercept = slope*(- duration_mean) + wait_mean\n",
    "intercept"
   ]
  },
  {
   "cell_type": "code",
   "execution_count": null,
   "metadata": {
    "deletable": false,
    "editable": false
   },
   "outputs": [],
   "source": [
    "ok.grade(\"q4_1\");"
   ]
  },
  {
   "cell_type": "markdown",
   "metadata": {
    "deletable": false,
    "editable": false
   },
   "source": [
    "## 3. Investigating the regression line\n",
    "The slope and intercept tell you exactly what the regression line looks like.  To predict the waiting time for an eruption, multiply the eruption's duration by `slope` and then add `intercept`.\n",
    "\n",
    "#### Question 1\n",
    "Compute the predicted waiting time for an eruption that lasts 2 minutes, and for an eruption that lasts 5 minutes.\n",
    "\n",
    "<!--\n",
    "BEGIN QUESTION\n",
    "name: q5_1\n",
    "manual: false\n",
    "points: 2\n",
    "-->"
   ]
  },
  {
   "cell_type": "code",
   "execution_count": 291,
   "metadata": {},
   "outputs": [],
   "source": [
    "two_minute_predicted_waiting_time = ...\n",
    "five_minute_predicted_waiting_time = ...\n",
    "\n",
    "# Here is a helper function to print out your predictions\n",
    "# (you don't need to modify it):\n",
    "def print_prediction(duration, predicted_waiting_time):\n",
    "    print(\"After an eruption lasting\", duration,\n",
    "          \"minutes, we predict you'll wait\", predicted_waiting_time,\n",
    "          \"minutes until the next eruption.\")\n",
    "\n",
    "print_prediction(2, two_minute_predicted_waiting_time)\n",
    "print_prediction(5, five_minute_predicted_waiting_time)"
   ]
  },
  {
   "cell_type": "code",
   "execution_count": null,
   "metadata": {
    "deletable": false,
    "editable": false
   },
   "outputs": [],
   "source": [
    "ok.grade(\"q5_1\");"
   ]
  },
  {
   "cell_type": "markdown",
   "metadata": {},
   "source": [
    "The next cell plots the line that goes between those two points, which is (a segment of) the regression line."
   ]
  },
  {
   "cell_type": "code",
   "execution_count": 294,
   "metadata": {
    "scrolled": false
   },
   "outputs": [],
   "source": [
    "plot_data_and_line(faithful, \"duration\", \"wait\", \n",
    "                   [2, two_minute_predicted_waiting_time], \n",
    "                   [5, five_minute_predicted_waiting_time])"
   ]
  },
  {
   "cell_type": "markdown",
   "metadata": {
    "deletable": false,
    "editable": false
   },
   "source": [
    "#### Question 2\n",
    "Make predictions for the waiting time after each eruption in the `faithful` table.  (Of course, we know exactly what the waiting times were!  We are doing this so we can see how accurate our predictions are.)  Put these numbers into a column in a new table called `faithful_predictions`.  Its first row should look like this:\n",
    "\n",
    "|duration|wait|predicted wait|\n",
    "|-|-|-|\n",
    "|3.6|79|72.1011|\n",
    "\n",
    "*Hint:* Your answer can be just one line.  There is no need for a `for` loop; use array arithmetic instead.\n",
    "\n",
    "<!--\n",
    "BEGIN QUESTION\n",
    "name: q5_2\n",
    "manual: false\n",
    "points: 2\n",
    "-->"
   ]
  },
  {
   "cell_type": "code",
   "execution_count": 295,
   "metadata": {},
   "outputs": [],
   "source": [
    "faithful_predictions = ...\n",
    "faithful_predictions"
   ]
  },
  {
   "cell_type": "code",
   "execution_count": null,
   "metadata": {
    "deletable": false,
    "editable": false
   },
   "outputs": [],
   "source": [
    "ok.grade(\"q5_2\");"
   ]
  },
  {
   "cell_type": "markdown",
   "metadata": {
    "deletable": false,
    "editable": false
   },
   "source": [
    "#### Question 3\n",
    "How close were we?  Compute the *residual* for each eruption in the dataset. **The residual** is the difference (_not the absolute difference_) between the actual waiting time and the predicted waiting time. In other words,\n",
    "\n",
    "\\begin{equation*}\n",
    "\\text{residual} = \\text{actual} - \\text{predicted}.\n",
    "\\end{equation*}\n",
    "\n",
    "Add the residuals to `faithful_predictions` as a new column called `\"residual\"`, naming the resulting table `faithful_residuals`.\n",
    "\n",
    "*Hint:* Again, your code will be much simpler if you don't use a `for` loop.\n",
    "\n",
    "<!--\n",
    "BEGIN QUESTION\n",
    "name: q5_3\n",
    "manual: false\n",
    "points: 2\n",
    "-->"
   ]
  },
  {
   "cell_type": "code",
   "execution_count": 298,
   "metadata": {},
   "outputs": [],
   "source": [
    "faithful_residuals = ...\n",
    "faithful_residuals"
   ]
  },
  {
   "cell_type": "code",
   "execution_count": null,
   "metadata": {
    "deletable": false,
    "editable": false
   },
   "outputs": [],
   "source": [
    "ok.grade(\"q5_3\");"
   ]
  },
  {
   "cell_type": "markdown",
   "metadata": {},
   "source": [
    "Here is a plot of the residuals you computed.  Each point corresponds to one eruption.  It shows how much our prediction over- or under-estimated the waiting time."
   ]
  },
  {
   "cell_type": "code",
   "execution_count": 300,
   "metadata": {},
   "outputs": [],
   "source": [
    "faithful_residuals.scatter(\"duration\", \"residual\", color=\"r\")"
   ]
  },
  {
   "cell_type": "markdown",
   "metadata": {},
   "source": [
    "There isn't really a pattern in the residuals, which confirms that it was reasonable to try linear regression.  It's true that there are two separate clouds; the eruption durations seemed to fall into two distinct clusters.  But that's just a pattern in the eruption durations, not a pattern in the relationship between eruption durations and waiting times."
   ]
  },
  {
   "cell_type": "markdown",
   "metadata": {},
   "source": [
    "## 4. How accurate are different predictions?\n",
    "Earlier, you should have found that the correlation is fairly close to 1, so the line fits fairly well on the training data.  That means the residuals are overall small (close to 0) in comparison to the waiting times.\n",
    "\n",
    "We can see that visually by plotting the waiting times and residuals together:"
   ]
  },
  {
   "cell_type": "code",
   "execution_count": 301,
   "metadata": {},
   "outputs": [],
   "source": [
    "faithful_residuals.scatter(\"duration\", \"wait\", label=\"actual waiting time\", color=\"blue\")\n",
    "plots.scatter(faithful_residuals.column(\"duration\"), faithful_residuals.column(\"residual\"), label=\"residual\", color=\"r\")\n",
    "plots.plot([2, 5], [two_minute_predicted_waiting_time, five_minute_predicted_waiting_time], label=\"regression line\")\n",
    "plots.legend(bbox_to_anchor=(1.7,.8));"
   ]
  },
  {
   "cell_type": "markdown",
   "metadata": {},
   "source": [
    "However, unless you have a strong reason to believe that the linear regression model is true, you should be wary of applying your prediction model to data that are very different from the training data."
   ]
  },
  {
   "cell_type": "markdown",
   "metadata": {
    "deletable": false,
    "editable": false
   },
   "source": [
    "#### Question 1\n",
    "In `faithful`, no eruption lasted exactly 0, 2.5, or 60 minutes.  Using this line, what is the predicted waiting time for an eruption that lasts 0 minutes?  2.5 minutes?  An hour?\n",
    "\n",
    "<!--\n",
    "BEGIN QUESTION\n",
    "name: q6_1\n",
    "manual: false\n",
    "points: 2\n",
    "-->"
   ]
  },
  {
   "cell_type": "code",
   "execution_count": 302,
   "metadata": {},
   "outputs": [],
   "source": [
    "zero_minute_predicted_waiting_time = ...\n",
    "two_point_five_minute_predicted_waiting_time = ...\n",
    "hour_predicted_waiting_time = ...\n",
    "\n",
    "print_prediction(0, zero_minute_predicted_waiting_time)\n",
    "print_prediction(2.5, two_point_five_minute_predicted_waiting_time)\n",
    "print_prediction(60, hour_predicted_waiting_time)"
   ]
  },
  {
   "cell_type": "code",
   "execution_count": null,
   "metadata": {
    "deletable": false,
    "editable": false
   },
   "outputs": [],
   "source": [
    "ok.grade(\"q6_1\");"
   ]
  },
  {
   "cell_type": "markdown",
   "metadata": {
    "deletable": false,
    "editable": false
   },
   "source": [
    "**Question 2.** Do you believe any of these values are reliable predictions?  Why or why not?\n",
    " \n",
    "Assign `true_predictions` to a list of the correct statements. A list is some sequence of comma separated items enclosed by square brackets, for example, `[1, 2, 3, 4, 5]` (which of course is not the correct answer to this question).\n",
    "1. The zero minute predicted waiting time is reliable.\n",
    "2. The 2.5 minute predicted waiting time is reliable.\n",
    "3. The hour predicted waiting time is reliable.\n",
    "4. We have data for all of the durations we predicted waiting times for.\n",
    "5. We have data surrounding (above and below) all of the durations we predicted waiting times for.\n",
    "\n",
    "<!--\n",
    "BEGIN QUESTION\n",
    "name: q6_2\n",
    "manual: false\n",
    "points: 2\n",
    "-->"
   ]
  },
  {
   "cell_type": "code",
   "execution_count": 306,
   "metadata": {},
   "outputs": [],
   "source": [
    "true_predictions = ..."
   ]
  },
  {
   "cell_type": "code",
   "execution_count": null,
   "metadata": {
    "deletable": false,
    "editable": false
   },
   "outputs": [],
   "source": [
    "ok.grade(\"q6_2\");"
   ]
  },
  {
   "cell_type": "markdown",
   "metadata": {},
   "source": [
    "## 5. Divide and Conquer"
   ]
  },
  {
   "cell_type": "markdown",
   "metadata": {},
   "source": [
    "It appears from the scatter diagram that there are two clusters of points: one for durations around 2 and another for durations between 3.5 and 5. A vertical line at 3 divides the two clusters."
   ]
  },
  {
   "cell_type": "code",
   "execution_count": 313,
   "metadata": {},
   "outputs": [],
   "source": [
    "faithful.scatter(\"duration\", \"wait\", label=\"actual waiting time\", color=\"blue\")\n",
    "plots.plot([3, 3], [40, 100]);"
   ]
  },
  {
   "cell_type": "markdown",
   "metadata": {},
   "source": [
    "The `standardize` function from lecture appears below, which returns a table of values in standard units."
   ]
  },
  {
   "cell_type": "code",
   "execution_count": 314,
   "metadata": {},
   "outputs": [],
   "source": [
    "def standard_units(any_numbers):\n",
    "    \"Convert any array of numbers to standard units.\"\n",
    "    return (any_numbers - np.mean(any_numbers)) / np.std(any_numbers)  \n",
    "\n",
    "def standardize(t):\n",
    "    \"\"\"Return a table in which all columns of t are converted to standard units.\"\"\"\n",
    "    t_su = Table()\n",
    "    for label in t.labels:\n",
    "        t_su = t_su.with_column(label + ' (su)', standard_units(t.column(label)))\n",
    "    return t_su"
   ]
  },
  {
   "cell_type": "markdown",
   "metadata": {
    "deletable": false,
    "editable": false
   },
   "source": [
    "**Question 1.** Separately compute the regression coefficients *r* for all the points with a duration below 3 and then for all the points with a duration equal to or above 3. To do so, create a function that computes `r` from a table and pass it two different tables of points, `below_3` and `above_3`.\n",
    "\n",
    "*Hint:* We recommend you to use the indices of the columns instead of the names of the columns inside the function definitions. They might be reusable for other linear regression analysis.\n",
    "\n",
    "<!--\n",
    "BEGIN QUESTION\n",
    "name: q7_1\n",
    "manual: false\n",
    "points: 2\n",
    "-->"
   ]
  },
  {
   "cell_type": "code",
   "execution_count": 315,
   "metadata": {},
   "outputs": [],
   "source": [
    "def reg_coeff(t):\n",
    "    \"\"\"Return the regression coefficient for columns 0 & 1.\"\"\"\n",
    "    t_su = standardize(t)\n",
    "    ...\n",
    "\n",
    "below_3 = ...\n",
    "above_3 = ...\n",
    "\n",
    "below_3_r = ...\n",
    "above_3_r = ...\n",
    "print(\"For points below 3, r is\", below_3_r, \"; for points above 3, r is\", above_3_r)"
   ]
  },
  {
   "cell_type": "code",
   "execution_count": null,
   "metadata": {
    "deletable": false,
    "editable": false
   },
   "outputs": [],
   "source": [
    "ok.grade(\"q7_1\");"
   ]
  },
  {
   "cell_type": "markdown",
   "metadata": {
    "deletable": false,
    "editable": false
   },
   "source": [
    "**Question 2.** Write functions `slope_of` and `intercept_of` below. \n",
    "\n",
    "When you're done, the functions `wait_below_3` and `wait_above_3` should each use a different regression line to predict a wait time for a duration. The first function should use the regression line for all points with duration below 3. The second function should use the regression line for all points with duration above or equal to 3.\n",
    "\n",
    "*Hint:* We recommend you to use the indices of the columns instead of the names of the columns inside the function definitions. They might be reusable for other linear regression analysis.\n",
    "\n",
    "<!--\n",
    "BEGIN QUESTION\n",
    "name: q7_2\n",
    "manual: false\n",
    "points: 2\n",
    "-->"
   ]
  },
  {
   "cell_type": "code",
   "execution_count": 318,
   "metadata": {},
   "outputs": [],
   "source": [
    "def slope_of(t, r):\n",
    "    \"\"\"Return the slope of the regression line for t in original units.\n",
    "    \n",
    "    Assume that column 0 contains x values and column 1 contains y values.\n",
    "    r is the regression coefficient for x and y.\n",
    "    \"\"\"\n",
    "    ...\n",
    "\n",
    "def intercept_of(t, r):\n",
    "    \"\"\"Return the intercept of the regression line for t in original units.\"\"\"\n",
    "    s = slope_of(t, r)\n",
    "    ...\n",
    "    \n",
    "below_3_a = slope_of(below_3, below_3_r)\n",
    "below_3_b = intercept_of(below_3, below_3_r)\n",
    "above_3_a = slope_of(above_3, above_3_r)\n",
    "above_3_b = intercept_of(above_3, above_3_r)\n",
    "\n",
    "def wait_below_3(duration):\n",
    "    return below_3_a * duration + below_3_b\n",
    "\n",
    "def wait_above_3(duration):\n",
    "    return above_3_a * duration + above_3_b"
   ]
  },
  {
   "cell_type": "code",
   "execution_count": null,
   "metadata": {
    "deletable": false,
    "editable": false
   },
   "outputs": [],
   "source": [
    "ok.grade(\"q7_2\");"
   ]
  },
  {
   "cell_type": "markdown",
   "metadata": {},
   "source": [
    "The plot below shows two different regression lines, one for each cluster!"
   ]
  },
  {
   "cell_type": "code",
   "execution_count": 320,
   "metadata": {},
   "outputs": [],
   "source": [
    "faithful.scatter(0, 1)\n",
    "plots.plot([1, 3], [wait_below_3(1), wait_below_3(3)])\n",
    "plots.plot([3, 6], [wait_above_3(3), wait_above_3(6)]);"
   ]
  },
  {
   "cell_type": "markdown",
   "metadata": {
    "deletable": false,
    "editable": false
   },
   "source": [
    "**Question 3.** Write a function `predict_wait` that takes a `duration` and returns the predicted wait time using the appropriate regression line, depending on whether the duration is below 3 or greater than or equal to 3.\n",
    "\n",
    "*Hint:* You can use `wait_above_3` and `wait_below_3`. They are two functions already defined before.\n",
    "\n",
    "<!--\n",
    "BEGIN QUESTION\n",
    "name: q7_3\n",
    "manual: false\n",
    "points: 2\n",
    "-->"
   ]
  },
  {
   "cell_type": "code",
   "execution_count": 321,
   "metadata": {},
   "outputs": [],
   "source": [
    "def predict_wait(duration):\n",
    "    \"\"\"Return the wait predicted by the appropriate one of the two regression lines above.\"\"\"\n",
    "    ..."
   ]
  },
  {
   "cell_type": "code",
   "execution_count": null,
   "metadata": {
    "deletable": false,
    "editable": false
   },
   "outputs": [],
   "source": [
    "ok.grade(\"q7_3\");"
   ]
  },
  {
   "cell_type": "markdown",
   "metadata": {},
   "source": [
    "The predicted wait times for each point appear below."
   ]
  },
  {
   "cell_type": "code",
   "execution_count": 323,
   "metadata": {},
   "outputs": [],
   "source": [
    "new_faithful = faithful.with_column('predicted', faithful.apply(predict_wait, 'duration'))\n",
    "new_faithful.scatter(0)"
   ]
  },
  {
   "cell_type": "markdown",
   "metadata": {},
   "source": [
    "**Question 4.** Do you think the predictions produced by `predict_wait` would be more or less accurate than the predictions from the regression line you created in section 2? How could you tell?\n",
    "\n",
    "To answer this question, let's create another plot of the residuals, this time from `new_faithful`, and see if they're any different than before.  Make an **array** of new residuals from the predictions in `new_faithful` and assign it to the name `new_residuals`."
   ]
  },
  {
   "cell_type": "code",
   "execution_count": 324,
   "metadata": {},
   "outputs": [],
   "source": [
    "new_residuals = ...\n",
    "plots.scatter(faithful_residuals.column('duration'), faithful_residuals.column('residual'),\n",
    "              c='r', label='Old Residuals')\n",
    "plots.scatter(new_faithful.column('duration'), new_residuals, c='purple', label='New Residuals', alpha=0.6)\n",
    "plots.legend(bbox_to_anchor=(1, 1))"
   ]
  },
  {
   "cell_type": "markdown",
   "metadata": {
    "deletable": false,
    "editable": false
   },
   "source": [
    "Now that we have plotted the residuals, can we say that the new set of predictions are more or less accurate than before?  Assign either 1, 2, 3, or 4 to the variable `new_predict` below.\n",
    "1. The new predictions are more accurate than the old predictions because the new residuals have a lower max value than the old residuals, as well as a lower minimum value than the old residuals, so the new predictions are closer to the true values than the old predictions.\n",
    "2. The new predictions are more accurate than the old predictions because the new residuals exhibit less spread than the old residuals, so the new predictions are closer to the true values more often than the old predictions.\n",
    "3. The new predictions are less accurate than the old predictions because they can't predict what will happen after a three minute duration.\n",
    "4. We cannot tell if the new predictions are more accurate than the old predictions because the new and old residuals look similar.\n",
    "\n",
    "<!--\n",
    "BEGIN QUESTION\n",
    "name: q7_4\n",
    "manual: false\n",
    "points: 2\n",
    "-->"
   ]
  },
  {
   "cell_type": "code",
   "execution_count": 325,
   "metadata": {},
   "outputs": [],
   "source": [
    "new_predict = ..."
   ]
  },
  {
   "cell_type": "code",
   "execution_count": null,
   "metadata": {
    "deletable": false,
    "editable": false
   },
   "outputs": [],
   "source": [
    "ok.grade(\"q7_4\");"
   ]
  },
  {
   "cell_type": "markdown",
   "metadata": {},
   "source": [
    "# 3. Linear Regression: University GPA Prediction\n",
    "\n",
    "Let's apply our knowledge of linear regression to another dataset so that we can predict a student's college GPA.\n",
    "\n",
    "Our dataset contains the SAT and GPA information of 105 students who graduated from a state university with a B.S. in computer science.\n",
    "\n",
    "First, let's load the dataset and understand what each column means."
   ]
  },
  {
   "cell_type": "code",
   "execution_count": 330,
   "metadata": {},
   "outputs": [],
   "source": [
    "gpa_sat = Table.read_table(\"sat.csv\")\n",
    "gpa_sat"
   ]
  },
  {
   "cell_type": "markdown",
   "metadata": {},
   "source": [
    "Our table `gpa_sat` has five columns:\n",
    "* **high_GPA**: High school grade point average,\n",
    "* **math_SAT**: Math SAT score,\n",
    "* **verb_SAT**: Verbal SAT score,\n",
    "* **comp_GPA**: Computer science grade point average,\n",
    "* **univ_GPA**: Overall university grade point average.\n",
    "\n",
    "We suspect that there is probably some relation between **high_GPA** and **univ_GPA**. We are going to examine this problem in the following."
   ]
  },
  {
   "cell_type": "markdown",
   "metadata": {},
   "source": [
    "Firstly, we are going to make a scatter plot using the data in the column **high_GPA** and the data in the column **univ_GPA** in order to convince ourselves that such a relationship might exist."
   ]
  },
  {
   "cell_type": "markdown",
   "metadata": {},
   "source": [
    "#### Question 1\n",
    "\n",
    "Make a scatter plot using the data in the column **high_GPA** and the data in the column **univ_GPA**."
   ]
  },
  {
   "cell_type": "code",
   "execution_count": 331,
   "metadata": {
    "scrolled": true
   },
   "outputs": [],
   "source": [
    "..."
   ]
  },
  {
   "cell_type": "markdown",
   "metadata": {},
   "source": [
    "From the scatter plot, it seems that a linear relation exists between **high_GPA** and **univ_GPA**. Let's proceed with linear regression. Remember there are several steps.\n",
    "\n",
    "1. Convert the data in the table into standard units (SU)\n",
    "2. Calculate the correlation\n",
    "3. Convert the correlation into the slope of a line \n",
    "4. Calculate the intercept of the line\n",
    "\n",
    "When you are working through the following questions, feel free to consult our previous analysis of Old Faithful."
   ]
  },
  {
   "cell_type": "markdown",
   "metadata": {
    "deletable": false,
    "editable": false
   },
   "source": [
    "#### Question 2\n",
    "\n",
    "Compute the mean and standard deviation of the high school GPAs and the university GPAs.  **Then** create a table called `high_univ_gpa_standard` containing the high school GPAs and the university GPAs in standard units. The columns should be named **high_GPA (standard units)** and **univ_GPA (standard units)**.\n",
    "\n",
    "<!--\n",
    "BEGIN QUESTION\n",
    "name: q8_2\n",
    "manual: false\n",
    "points: 2\n",
    "-->"
   ]
  },
  {
   "cell_type": "code",
   "execution_count": 332,
   "metadata": {},
   "outputs": [],
   "source": [
    "..."
   ]
  },
  {
   "cell_type": "code",
   "execution_count": null,
   "metadata": {
    "deletable": false,
    "editable": false
   },
   "outputs": [],
   "source": [
    "ok.grade(\"q8_2\");"
   ]
  },
  {
   "cell_type": "markdown",
   "metadata": {
    "deletable": false,
    "editable": false
   },
   "source": [
    "#### Question 3\n",
    "\n",
    "Compute the correlation between the high school GPAs and the university GPAs in standard units. Assign your result to `r_high_univ_GPA`.\n",
    "\n",
    "<!--\n",
    "BEGIN QUESTION\n",
    "name: q8_3\n",
    "manual: false\n",
    "points: 2\n",
    "-->"
   ]
  },
  {
   "cell_type": "code",
   "execution_count": 335,
   "metadata": {},
   "outputs": [],
   "source": [
    "r_high_univ_GPA = ...\n",
    "r_high_univ_GPA"
   ]
  },
  {
   "cell_type": "code",
   "execution_count": null,
   "metadata": {
    "deletable": false,
    "editable": false
   },
   "outputs": [],
   "source": [
    "ok.grade(\"q8_3\");"
   ]
  },
  {
   "cell_type": "markdown",
   "metadata": {
    "deletable": false,
    "editable": false
   },
   "source": [
    "#### Question 4\n",
    "\n",
    "What is the slope of the regression line in original units? Assign your answer to `slope_high_univ_GPA`.\n",
    "\n",
    "<!--\n",
    "BEGIN QUESTION\n",
    "name: q8_4\n",
    "manual: false\n",
    "points: 2\n",
    "-->"
   ]
  },
  {
   "cell_type": "code",
   "execution_count": 337,
   "metadata": {},
   "outputs": [],
   "source": [
    "slope_high_univ_GPA = ...\n",
    "slope_high_univ_GPA"
   ]
  },
  {
   "cell_type": "code",
   "execution_count": null,
   "metadata": {
    "deletable": false,
    "editable": false
   },
   "outputs": [],
   "source": [
    "ok.grade(\"q8_4\");"
   ]
  },
  {
   "cell_type": "markdown",
   "metadata": {
    "deletable": false,
    "editable": false
   },
   "source": [
    "#### Question 5\n",
    "\n",
    "What is the intercept of the regression line in original units? Assign your answer to `intercept_high_univ_GPA`.\n",
    "\n",
    "<!--\n",
    "BEGIN QUESTION\n",
    "name: q8_5\n",
    "manual: false\n",
    "points: 2\n",
    "-->"
   ]
  },
  {
   "cell_type": "code",
   "execution_count": 339,
   "metadata": {},
   "outputs": [],
   "source": [
    "intercept_high_univ_GPA = ...\n",
    "intercept_high_univ_GPA"
   ]
  },
  {
   "cell_type": "code",
   "execution_count": null,
   "metadata": {
    "deletable": false,
    "editable": false
   },
   "outputs": [],
   "source": [
    "ok.grade(\"q8_5\");"
   ]
  },
  {
   "cell_type": "markdown",
   "metadata": {},
   "source": [
    "Run the cell below to plot our original data and our regression line in order to convince ourselves that our regression line is capturing the relationship between the high school GPAs and the univeristy GPAs."
   ]
  },
  {
   "cell_type": "code",
   "execution_count": 341,
   "metadata": {
    "scrolled": true
   },
   "outputs": [],
   "source": [
    "plot_data_and_line(gpa_sat, \"high_GPA\", \"univ_GPA\", \n",
    "                   [2, 2 * slope_high_univ_GPA + intercept_high_univ_GPA], \n",
    "                   [4, 4 * slope_high_univ_GPA + intercept_high_univ_GPA])"
   ]
  },
  {
   "cell_type": "markdown",
   "metadata": {
    "deletable": false,
    "editable": false
   },
   "source": [
    "Lastly, let us make a prediction using our regression line.\n",
    "\n",
    "#### Question 6\n",
    "Suppose there is a student whose high school GPA is 3.42. According to the regression line we have, what's the prediction for the student's university GPA? Assign your answer to `univ_GPA_prediction`.\n",
    "\n",
    "<!--\n",
    "BEGIN QUESTION\n",
    "name: q8_6\n",
    "manual: false\n",
    "points: 2\n",
    "-->"
   ]
  },
  {
   "cell_type": "code",
   "execution_count": 342,
   "metadata": {
    "scrolled": true
   },
   "outputs": [],
   "source": [
    "univ_GPA_prediction = ...\n",
    "univ_GPA_prediction"
   ]
  },
  {
   "cell_type": "code",
   "execution_count": null,
   "metadata": {
    "deletable": false,
    "editable": false
   },
   "outputs": [],
   "source": [
    "ok.grade(\"q8_6\");"
   ]
  },
  {
   "cell_type": "markdown",
   "metadata": {},
   "source": [
    "There could be other relationships in the dataset that can be explored. For example, we also suspect that there is probably some relation between **math_SAT** and **comp_GPA**, since a person's mathematical skill is crucial in the study of computer science. Do a linear regression analysis on your own in your free time if you are curious and/or want to get more practice on linear regression!"
   ]
  },
  {
   "cell_type": "markdown",
   "metadata": {},
   "source": [
    "# Submitting Lab 7"
   ]
  },
  {
   "cell_type": "markdown",
   "metadata": {
    "deletable": false,
    "editable": false
   },
   "source": [
    "# Submit\n",
    "Make sure you have run all cells in your notebook in order before running the cell below, so that all images/graphs appear in the output.\n",
    "**Please save before submitting!**\n",
    "\n",
    "<!-- EXPECT 1 EXPORTED QUESTIONS -->"
   ]
  },
  {
   "cell_type": "code",
   "execution_count": null,
   "metadata": {
    "deletable": false,
    "editable": false
   },
   "outputs": [],
   "source": [
    "# Save your notebook first, then run this cell to submit.\n",
    "import jassign.to_pdf\n",
    "jassign.to_pdf.generate_pdf('lab07.ipynb', 'lab07.pdf')\n",
    "ok.submit()"
   ]
  }
 ],
 "metadata": {
  "anaconda-cloud": {},
  "kernelspec": {
   "display_name": "Python 3",
   "language": "python",
   "name": "python3"
  },
  "language_info": {
   "codemirror_mode": {
    "name": "ipython",
    "version": 3
   },
   "file_extension": ".py",
   "mimetype": "text/x-python",
   "name": "python",
   "nbconvert_exporter": "python",
   "pygments_lexer": "ipython3",
   "version": "3.6.7"
  }
 },
 "nbformat": 4,
 "nbformat_minor": 1
}
